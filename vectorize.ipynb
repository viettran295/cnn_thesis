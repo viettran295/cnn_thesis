{
 "cells": [
  {
   "cell_type": "code",
   "execution_count": 1,
   "metadata": {},
   "outputs": [
    {
     "name": "stdout",
     "output_type": "stream",
     "text": [
      "Result: 250157.01333635935\n",
      "Vectorized multiplication:  1.966714859008789 ms\n"
     ]
    }
   ],
   "source": [
    "import numpy as np \n",
    "import time \n",
    "\n",
    "size_trainingset = 1000000\n",
    "a = np.random.rand(size_trainingset)\n",
    "b = np.random.rand(size_trainingset)\n",
    "tic = time.time()\n",
    "c = np.dot(a, b)\n",
    "toc = time.time()\n",
    "print(f\"Result: {c}\")\n",
    "print(\"Vectorized multiplication: \", ((toc-tic)*1000), \"ms\")"
   ]
  },
  {
   "cell_type": "code",
   "execution_count": 2,
   "metadata": {},
   "outputs": [
    {
     "name": "stdout",
     "output_type": "stream",
     "text": [
      "Result: 250157.0133363599\n",
      "Unvectorized version:  398.0224132537842 ms\n"
     ]
    }
   ],
   "source": [
    "c = 0\n",
    "tic = time.time()\n",
    "for i in range(size_trainingset):\n",
    "    c += a[i] * b[i]\n",
    "toc = time.time()\n",
    "print(f\"Result: {c}\")\n",
    "print(\"Unvectorized version: \", ((toc-tic)*1000), \"ms\")"
   ]
  },
  {
   "cell_type": "code",
   "execution_count": null,
   "metadata": {},
   "outputs": [],
   "source": []
  }
 ],
 "metadata": {
  "kernelspec": {
   "display_name": "Python 3.8.3 ('venv_cnn': venv)",
   "language": "python",
   "name": "python3"
  },
  "language_info": {
   "codemirror_mode": {
    "name": "ipython",
    "version": 3
   },
   "file_extension": ".py",
   "mimetype": "text/x-python",
   "name": "python",
   "nbconvert_exporter": "python",
   "pygments_lexer": "ipython3",
   "version": "3.8.3"
  },
  "orig_nbformat": 4,
  "vscode": {
   "interpreter": {
    "hash": "d4c749f7bdb0f444177ba46f7226c1f18447eea57a10fa878655d732524bf2a6"
   }
  }
 },
 "nbformat": 4,
 "nbformat_minor": 2
}
