{
 "cells": [
  {
   "cell_type": "code",
   "execution_count": null,
   "metadata": {},
   "outputs": [],
   "source": [
    "from helper import * \n",
    "from sklearn.model_selection import train_test_split\n",
    "\n",
    "path = 'data'\n",
    "df = load_data(f'{path}/driving_log.csv')\n",
    "df = balance_data(df, 'Steering', sample_remain=500)\n",
    "df"
   ]
  },
  {
   "cell_type": "markdown",
   "metadata": {},
   "source": [
    "The car go straight most of the time that makes steering values around 0 extremely higher than the other. Drop the steering data to balance the whole dataset. "
   ]
  },
  {
   "cell_type": "code",
   "execution_count": null,
   "metadata": {},
   "outputs": [],
   "source": [
    "imgPath, steering = load_data_to_array(path, df)\n",
    "# fixed value for random_state to keep train and test datasets same each time\n",
    "X_train, X_val, Y_train, Y_val = train_test_split(imgPath, steering, test_size=0.2, random_state=1) \n",
    "X_train, Y_train = img_preprocess_pipeline(X_train, Y_train)\n",
    "X_val, Y_val = img_preprocess_pipeline(X_val, Y_val)\n",
    "\n",
    "print(X_train.shape)\n",
    "print(Y_train.shape)\n",
    "print(\"Training imgs: \", len(X_train))\n",
    "print(\"Test imgs: \", len(X_val))"
   ]
  },
  {
   "cell_type": "code",
   "execution_count": null,
   "metadata": {},
   "outputs": [],
   "source": [
    "from keras.callbacks import ModelCheckpoint\n",
    "\n",
    "opt = 'adam'\n",
    "lr = 0.001\n",
    "dropout = 0.4\n",
    "optim = build_optimizer(opt, lr)\n",
    "model = build_network('relu', optim, dropout)\n",
    "\n",
    "# checkpoint_path = f'model/{opt}-{lr}.hdf5'\n",
    "# checkpoint_callback = ModelCheckpoint(\n",
    "#     filepath=checkpoint_path,\n",
    "#     monitor='val_loss',\n",
    "#     verbose=1,\n",
    "#     save_best_only=True\n",
    "# )"
   ]
  },
  {
   "cell_type": "code",
   "execution_count": null,
   "metadata": {},
   "outputs": [],
   "source": [
    "\n",
    "''' \n",
    "Iterations: number of batches to complete one epoch \n",
    "Batches: number of training samples in one iteration \n",
    "Steps per epoch = number of training sample // batch size\n",
    "'''\n",
    "# hist = model.fit(X_train, Y_train, validation_data=(X_val, Y_val), batch_size=20, \n",
    "#                 epochs=10, callbacks=[checkpoint_callback])\n",
    "hist = model.fit(X_train, Y_train, validation_data=(X_val, Y_val), batch_size=20, epochs=5)"
   ]
  },
  {
   "cell_type": "code",
   "execution_count": null,
   "metadata": {},
   "outputs": [],
   "source": [
    "print(hist)"
   ]
  },
  {
   "cell_type": "code",
   "execution_count": null,
   "metadata": {},
   "outputs": [],
   "source": [
    "import plotly.express as px \n",
    "\n",
    "fig = px.line(y=[hist.history['loss'], hist.history['val_loss']])\n",
    "fig.show()"
   ]
  },
  {
   "cell_type": "code",
   "execution_count": null,
   "metadata": {},
   "outputs": [],
   "source": [
    "# from keras.models import load_model\n",
    "\n",
    "# model = load_model(checkpoint_path)\n",
    "# hist = model.fit(X_train, Y_train, validation_data=(X_val, Y_val), batch_size=batch_size,\n",
    "#                 epochs=10, callbacks=[checkpoint_callback])"
   ]
  }
 ],
 "metadata": {
  "kernelspec": {
   "display_name": "Python 3.8.3 ('venv_cnn': venv)",
   "language": "python",
   "name": "python3"
  },
  "language_info": {
   "codemirror_mode": {
    "name": "ipython",
    "version": 3
   },
   "file_extension": ".py",
   "mimetype": "text/x-python",
   "name": "python",
   "nbconvert_exporter": "python",
   "pygments_lexer": "ipython3",
   "version": "3.8.3"
  },
  "orig_nbformat": 4,
  "vscode": {
   "interpreter": {
    "hash": "d4c749f7bdb0f444177ba46f7226c1f18447eea57a10fa878655d732524bf2a6"
   }
  }
 },
 "nbformat": 4,
 "nbformat_minor": 2
}
