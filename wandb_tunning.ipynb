{
 "cells": [
  {
   "cell_type": "code",
   "execution_count": null,
   "metadata": {},
   "outputs": [],
   "source": [
    "from helper import * \n",
    "import matplotlib.pyplot as plt \n",
    "import matplotlib.image as mpimg\n",
    "from sklearn.model_selection import train_test_split\n",
    "\n",
    "path = 'data'\n",
    "df = load_data(f'{path}/driving_log.csv')\n",
    "df = balance_data(df, 'Steering')\n",
    "df"
   ]
  },
  {
   "cell_type": "markdown",
   "metadata": {},
   "source": [
    "The car go straight most of the time that makes steering values around 0 extremely higher than the other. Drop the steering data to balance the whole dataset. "
   ]
  },
  {
   "cell_type": "code",
   "execution_count": null,
   "metadata": {},
   "outputs": [],
   "source": [
    "img_path, steering = load_data_to_array(path, df)\n",
    "# fixed value for random_state to keep train and test datasets same each time\n",
    "X_train, X_val, Y_train, Y_val = train_test_split(img_path, steering, test_size=0.2, random_state=1) \n",
    "X_train, Y_train = img_preprocess_pipeline(X_train, Y_train, 1)\n",
    "X_val, Y_val = img_preprocess_pipeline(X_val, Y_val, 0 )\n",
    "\n",
    "print(X_train.shape)\n",
    "print(Y_train.shape)\n",
    "print(\"Training imgs: \", len(X_train))\n",
    "print(\"Test imgs: \", len(X_val))"
   ]
  },
  {
   "cell_type": "code",
   "execution_count": null,
   "metadata": {},
   "outputs": [],
   "source": [
    "import wandb\n",
    "from wandb.keras import WandbCallback\n",
    "from wandb_config import sweep_config\n",
    "\n",
    "wandb.init(project='cnn_thesis')\n",
    "sweep_config = sweep_config\n",
    "\n",
    "sweep_id = wandb.sweep(sweep_config, project='cnn_thesis')\n",
    "log_callback = WandbCallback(log_evaluation=True)"
   ]
  },
  {
   "cell_type": "code",
   "execution_count": null,
   "metadata": {},
   "outputs": [],
   "source": [
    "\n",
    "def train(config=None):\n",
    "    with wandb.init(config=config):\n",
    "        config = wandb.config\n",
    "        \n",
    "        optim = build_optimizer(config.optimizer, config.learning_rate)\n",
    "        model = build_network(activation=config.activation, optimizer=optim)\n",
    "        \n",
    "        model.fit(X_train, Y_train, validation_data=(X_val, Y_val), batch_size=config.batch_size,\n",
    "                        verbose=1, epochs=config.epochs, callbacks=[log_callback])"
   ]
  },
  {
   "cell_type": "code",
   "execution_count": 5,
   "metadata": {},
   "outputs": [
    {
     "name": "stdout",
     "output_type": "stream",
     "text": [
      "200/200 [==============================] - ETA: 0s - loss: 69267024.0000 - accuracy: 0.0815"
     ]
    },
    {
     "name": "stderr",
     "output_type": "stream",
     "text": [
      "WARNING:absl:Found untraced functions such as _jit_compiled_convolution_op, _jit_compiled_convolution_op, _jit_compiled_convolution_op, _jit_compiled_convolution_op, _jit_compiled_convolution_op while saving (showing 5 of 5). These functions will not be directly callable after loading.\n"
     ]
    },
    {
     "name": "stdout",
     "output_type": "stream",
     "text": [
      "INFO:tensorflow:Assets written to: c:\\Users\\viet tran\\Desktop\\Masterthesis\\Program\\wandb\\run-20221025_203420-33mwiwu2\\files\\model-best\\assets\n"
     ]
    },
    {
     "name": "stderr",
     "output_type": "stream",
     "text": [
      "INFO:tensorflow:Assets written to: c:\\Users\\viet tran\\Desktop\\Masterthesis\\Program\\wandb\\run-20221025_203420-33mwiwu2\\files\\model-best\\assets\n",
      "\u001b[34m\u001b[1mwandb\u001b[0m: Adding directory to artifact (c:\\Users\\viet tran\\Desktop\\Masterthesis\\Program\\wandb\\run-20221025_203420-33mwiwu2\\files\\model-best)... Done. 0.2s\n"
     ]
    },
    {
     "name": "stdout",
     "output_type": "stream",
     "text": [
      "200/200 [==============================] - 29s 141ms/step - loss: 69267024.0000 - accuracy: 0.0815 - val_loss: 1.8760 - val_accuracy: 0.0554\n",
      "Epoch 2/49\n",
      "200/200 [==============================] - ETA: 0s - loss: 2.0256 - accuracy: 0.0685"
     ]
    },
    {
     "name": "stderr",
     "output_type": "stream",
     "text": [
      "WARNING:absl:Found untraced functions such as _jit_compiled_convolution_op, _jit_compiled_convolution_op, _jit_compiled_convolution_op, _jit_compiled_convolution_op, _jit_compiled_convolution_op while saving (showing 5 of 5). These functions will not be directly callable after loading.\n"
     ]
    },
    {
     "name": "stdout",
     "output_type": "stream",
     "text": [
      "INFO:tensorflow:Assets written to: c:\\Users\\viet tran\\Desktop\\Masterthesis\\Program\\wandb\\run-20221025_203420-33mwiwu2\\files\\model-best\\assets\n"
     ]
    },
    {
     "name": "stderr",
     "output_type": "stream",
     "text": [
      "INFO:tensorflow:Assets written to: c:\\Users\\viet tran\\Desktop\\Masterthesis\\Program\\wandb\\run-20221025_203420-33mwiwu2\\files\\model-best\\assets\n",
      "\u001b[34m\u001b[1mwandb\u001b[0m: Adding directory to artifact (c:\\Users\\viet tran\\Desktop\\Masterthesis\\Program\\wandb\\run-20221025_203420-33mwiwu2\\files\\model-best)... Done. 0.1s\n"
     ]
    },
    {
     "name": "stdout",
     "output_type": "stream",
     "text": [
      "200/200 [==============================] - 23s 116ms/step - loss: 2.0256 - accuracy: 0.0685 - val_loss: 1.8711 - val_accuracy: 0.0554\n",
      "Epoch 3/49\n",
      "200/200 [==============================] - ETA: 0s - loss: 2.0197 - accuracy: 0.0685"
     ]
    },
    {
     "name": "stderr",
     "output_type": "stream",
     "text": [
      "WARNING:absl:Found untraced functions such as _jit_compiled_convolution_op, _jit_compiled_convolution_op, _jit_compiled_convolution_op, _jit_compiled_convolution_op, _jit_compiled_convolution_op while saving (showing 5 of 5). These functions will not be directly callable after loading.\n"
     ]
    },
    {
     "name": "stdout",
     "output_type": "stream",
     "text": [
      "INFO:tensorflow:Assets written to: c:\\Users\\viet tran\\Desktop\\Masterthesis\\Program\\wandb\\run-20221025_203420-33mwiwu2\\files\\model-best\\assets\n"
     ]
    },
    {
     "name": "stderr",
     "output_type": "stream",
     "text": [
      "INFO:tensorflow:Assets written to: c:\\Users\\viet tran\\Desktop\\Masterthesis\\Program\\wandb\\run-20221025_203420-33mwiwu2\\files\\model-best\\assets\n",
      "\u001b[34m\u001b[1mwandb\u001b[0m: Adding directory to artifact (c:\\Users\\viet tran\\Desktop\\Masterthesis\\Program\\wandb\\run-20221025_203420-33mwiwu2\\files\\model-best)... Done. 0.3s\n"
     ]
    },
    {
     "name": "stdout",
     "output_type": "stream",
     "text": [
      "200/200 [==============================] - 26s 129ms/step - loss: 2.0197 - accuracy: 0.0685 - val_loss: 1.8645 - val_accuracy: 0.0554\n",
      "Epoch 4/49\n",
      "200/200 [==============================] - ETA: 0s - loss: 2.0120 - accuracy: 0.0685"
     ]
    },
    {
     "name": "stderr",
     "output_type": "stream",
     "text": [
      "WARNING:absl:Found untraced functions such as _jit_compiled_convolution_op, _jit_compiled_convolution_op, _jit_compiled_convolution_op, _jit_compiled_convolution_op, _jit_compiled_convolution_op while saving (showing 5 of 5). These functions will not be directly callable after loading.\n"
     ]
    },
    {
     "name": "stdout",
     "output_type": "stream",
     "text": [
      "INFO:tensorflow:Assets written to: c:\\Users\\viet tran\\Desktop\\Masterthesis\\Program\\wandb\\run-20221025_203420-33mwiwu2\\files\\model-best\\assets\n"
     ]
    },
    {
     "name": "stderr",
     "output_type": "stream",
     "text": [
      "INFO:tensorflow:Assets written to: c:\\Users\\viet tran\\Desktop\\Masterthesis\\Program\\wandb\\run-20221025_203420-33mwiwu2\\files\\model-best\\assets\n",
      "\u001b[34m\u001b[1mwandb\u001b[0m: Adding directory to artifact (c:\\Users\\viet tran\\Desktop\\Masterthesis\\Program\\wandb\\run-20221025_203420-33mwiwu2\\files\\model-best)... Done. 0.2s\n"
     ]
    },
    {
     "name": "stdout",
     "output_type": "stream",
     "text": [
      "200/200 [==============================] - 25s 128ms/step - loss: 2.0120 - accuracy: 0.0685 - val_loss: 1.8563 - val_accuracy: 0.0554\n",
      "Epoch 5/49\n",
      "200/200 [==============================] - ETA: 0s - loss: 2.0028 - accuracy: 0.0685"
     ]
    },
    {
     "name": "stderr",
     "output_type": "stream",
     "text": [
      "WARNING:absl:Found untraced functions such as _jit_compiled_convolution_op, _jit_compiled_convolution_op, _jit_compiled_convolution_op, _jit_compiled_convolution_op, _jit_compiled_convolution_op while saving (showing 5 of 5). These functions will not be directly callable after loading.\n"
     ]
    },
    {
     "name": "stdout",
     "output_type": "stream",
     "text": [
      "INFO:tensorflow:Assets written to: c:\\Users\\viet tran\\Desktop\\Masterthesis\\Program\\wandb\\run-20221025_203420-33mwiwu2\\files\\model-best\\assets\n"
     ]
    },
    {
     "name": "stderr",
     "output_type": "stream",
     "text": [
      "INFO:tensorflow:Assets written to: c:\\Users\\viet tran\\Desktop\\Masterthesis\\Program\\wandb\\run-20221025_203420-33mwiwu2\\files\\model-best\\assets\n",
      "\u001b[34m\u001b[1mwandb\u001b[0m: Adding directory to artifact (c:\\Users\\viet tran\\Desktop\\Masterthesis\\Program\\wandb\\run-20221025_203420-33mwiwu2\\files\\model-best)... Done. 0.1s\n"
     ]
    },
    {
     "name": "stdout",
     "output_type": "stream",
     "text": [
      "200/200 [==============================] - 18s 91ms/step - loss: 2.0028 - accuracy: 0.0685 - val_loss: 1.8465 - val_accuracy: 0.0554\n",
      "Epoch 6/49\n",
      "200/200 [==============================] - ETA: 0s - loss: 1.9918 - accuracy: 0.0685"
     ]
    }
   ],
   "source": [
    "wandb.agent(sweep_id, train, count=20)"
   ]
  },
  {
   "cell_type": "code",
   "execution_count": null,
   "metadata": {},
   "outputs": [],
   "source": [
    "''' \n",
    "Iterations: number of batches to complete one epoch \n",
    "Batches: number of training samples in one iteration \n",
    "Steps per epoch = number of training sample // batch size\n",
    "'''\n"
   ]
  }
 ],
 "metadata": {
  "kernelspec": {
   "display_name": "Python 3.8.3 ('venv_cnn': venv)",
   "language": "python",
   "name": "python3"
  },
  "language_info": {
   "codemirror_mode": {
    "name": "ipython",
    "version": 3
   },
   "file_extension": ".py",
   "mimetype": "text/x-python",
   "name": "python",
   "nbconvert_exporter": "python",
   "pygments_lexer": "ipython3",
   "version": "3.8.3"
  },
  "orig_nbformat": 4,
  "vscode": {
   "interpreter": {
    "hash": "d4c749f7bdb0f444177ba46f7226c1f18447eea57a10fa878655d732524bf2a6"
   }
  }
 },
 "nbformat": 4,
 "nbformat_minor": 2
}
