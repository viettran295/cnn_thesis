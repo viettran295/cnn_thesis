{
 "cells": [
  {
   "cell_type": "code",
   "execution_count": null,
   "metadata": {},
   "outputs": [],
   "source": [
    "from helper import * \n",
    "import matplotlib.pyplot as plt \n",
    "import matplotlib.image as mpimg\n",
    "from sklearn.model_selection import train_test_split\n",
    "\n",
    "path = 'data'\n",
    "df = load_data(f'{path}/driving_log.csv')\n",
    "df = balance_data(df, 'Steering')\n",
    "df"
   ]
  },
  {
   "cell_type": "markdown",
   "metadata": {},
   "source": [
    "The car go straight most of the time that makes steering values around 0 extremely higher than the other. Drop the steering data to balance the whole dataset. "
   ]
  },
  {
   "cell_type": "code",
   "execution_count": null,
   "metadata": {},
   "outputs": [],
   "source": [
    "img_path, steering = load_data_to_array(path, df)\n",
    "# fixed value for random_state to keep train and test datasets same each time\n",
    "X_train, X_val, Y_train, Y_val = train_test_split(img_path, steering, test_size=0.2, random_state=1) \n",
    "X_train, Y_train = img_preprocess_pipeline(X_train, Y_train, 1)\n",
    "X_val, Y_val = img_preprocess_pipeline(X_val, Y_val, 0 )\n",
    "\n",
    "print(X_train.shape)\n",
    "print(Y_train.shape)\n",
    "print(\"Training imgs: \", len(X_train))\n",
    "print(\"Test imgs: \", len(X_val))"
   ]
  },
  {
   "cell_type": "code",
   "execution_count": null,
   "metadata": {},
   "outputs": [],
   "source": [
    "import wandb\n",
    "from wandb.keras import WandbCallback\n",
    "from wandb_config import sweep_config\n",
    "\n",
    "wandb.init(project='cnn_thesis')\n",
    "\n",
    "sweep_id = wandb.sweep(sweep_config, project='cnn_thesis')\n",
    "log_callback = WandbCallback(log_evaluation=True)"
   ]
  },
  {
   "cell_type": "code",
   "execution_count": null,
   "metadata": {},
   "outputs": [],
   "source": [
    "\n",
    "def train(config=None):\n",
    "    with wandb.init(config=config):\n",
    "        config = wandb.config\n",
    "        \n",
    "        optim = build_optimizer(config.optimizer, config.learning_rate)\n",
    "        model = build_network(activation=config.activation, optimizer=optim)\n",
    "        \n",
    "        model.fit(X_train, Y_train, validation_data=(X_val, Y_val), batch_size=config.batch_size,\n",
    "                        verbose=1, epochs=config.epochs, callbacks=[log_callback])"
   ]
  },
  {
   "cell_type": "code",
   "execution_count": 5,
   "metadata": {},
   "outputs": [
    {
     "name": "stdout",
     "output_type": "stream",
     "text": [
      "119/119 [==============================] - 131s 1s/step - loss: 0.2611 - acc: 0.3092 - val_loss: 0.2142 - val_acc: 0.3415\n",
      "Epoch 2/5\n",
      "119/119 [==============================] - 125s 1s/step - loss: 0.2545 - acc: 0.3088 - val_loss: 0.2104 - val_acc: 0.3415\n",
      "Epoch 3/5\n",
      "119/119 [==============================] - 128s 1s/step - loss: 0.2508 - acc: 0.3088 - val_loss: 0.2081 - val_acc: 0.3415\n",
      "Epoch 4/5\n",
      "119/119 [==============================] - 129s 1s/step - loss: 0.2495 - acc: 0.3092 - val_loss: 0.2073 - val_acc: 0.3415\n",
      "Epoch 5/5\n",
      "119/119 [==============================] - 120s 1s/step - loss: 0.2474 - acc: 0.3088 - val_loss: 0.2046 - val_acc: 0.3369\n",
      "21/21 [==============================] - 8s 353ms/step\n"
     ]
    },
    {
     "data": {
      "text/html": [
       "Waiting for W&B process to finish... <strong style=\"color:green\">(success).</strong>"
      ],
      "text/plain": [
       "<IPython.core.display.HTML object>"
      ]
     },
     "metadata": {},
     "output_type": "display_data"
    },
    {
     "data": {
      "text/html": [
       "<style>\n",
       "    table.wandb td:nth-child(1) { padding: 0 10px; text-align: left ; width: auto;} td:nth-child(2) {text-align: left ; width: 100%}\n",
       "    .wandb-row { display: flex; flex-direction: row; flex-wrap: wrap; justify-content: flex-start; width: 100% }\n",
       "    .wandb-col { display: flex; flex-direction: column; flex-basis: 100%; flex: 1; padding: 10px; }\n",
       "    </style>\n",
       "<div class=\"wandb-row\"><div class=\"wandb-col\"><h3>Run history:</h3><br/><table class=\"wandb\"><tr><td>acc</td><td>█▁▁█▁</td></tr><tr><td>epoch</td><td>▁▃▅▆█</td></tr><tr><td>loss</td><td>█▅▃▂▁</td></tr><tr><td>val_acc</td><td>████▁</td></tr><tr><td>val_loss</td><td>█▅▄▃▁</td></tr></table><br/></div><div class=\"wandb-col\"><h3>Run summary:</h3><br/><table class=\"wandb\"><tr><td>acc</td><td>0.30885</td></tr><tr><td>epoch</td><td>4</td></tr><tr><td>loss</td><td>0.24745</td></tr><tr><td>val_acc</td><td>0.33692</td></tr><tr><td>val_loss</td><td>0.20458</td></tr></table><br/></div></div>"
      ],
      "text/plain": [
       "<IPython.core.display.HTML object>"
      ]
     },
     "metadata": {},
     "output_type": "display_data"
    },
    {
     "data": {
      "text/html": [
       "Synced <strong style=\"color:#cdcd00\">swift-sweep-20</strong>: <a href=\"https://wandb.ai/viettran/cnn_thesis/runs/s9io2kvu\" target=\"_blank\">https://wandb.ai/viettran/cnn_thesis/runs/s9io2kvu</a><br/>Synced 5 W&B file(s), 1 media file(s), 1 artifact file(s) and 0 other file(s)"
      ],
      "text/plain": [
       "<IPython.core.display.HTML object>"
      ]
     },
     "metadata": {},
     "output_type": "display_data"
    },
    {
     "data": {
      "text/html": [
       "Find logs at: <code>.\\wandb\\run-20221103_115448-s9io2kvu\\logs</code>"
      ],
      "text/plain": [
       "<IPython.core.display.HTML object>"
      ]
     },
     "metadata": {},
     "output_type": "display_data"
    },
    {
     "name": "stdout",
     "output_type": "stream",
     "text": [
      "Error in callback <function _WandbInit._pause_backend at 0x000001A42FE2ED30> (for post_run_cell):\n"
     ]
    },
    {
     "ename": "ConnectionResetError",
     "evalue": "[WinError 10054] An existing connection was forcibly closed by the remote host",
     "output_type": "error",
     "traceback": [
      "\u001b[1;31m---------------------------------------------------------------------------\u001b[0m",
      "\u001b[1;31mConnectionResetError\u001b[0m                      Traceback (most recent call last)",
      "File \u001b[1;32mc:\\Users\\viet tran\\Desktop\\Masterthesis\\Program\\venv_cnn\\lib\\site-packages\\backcall\\backcall.py:104\u001b[0m, in \u001b[0;36mcallback_prototype.<locals>.adapt.<locals>.adapted\u001b[1;34m(*args, **kwargs)\u001b[0m\n\u001b[0;32m    102\u001b[0m                 kwargs\u001b[39m.\u001b[39mpop(name)\n\u001b[0;32m    103\u001b[0m \u001b[39m#            print(args, kwargs, unmatched_pos, cut_positional, unmatched_kw)\u001b[39;00m\n\u001b[1;32m--> 104\u001b[0m             \u001b[39mreturn\u001b[39;00m callback(\u001b[39m*\u001b[39;49margs, \u001b[39m*\u001b[39;49m\u001b[39m*\u001b[39;49mkwargs)\n",
      "File \u001b[1;32mc:\\Users\\viet tran\\Desktop\\Masterthesis\\Program\\venv_cnn\\lib\\site-packages\\wandb\\sdk\\wandb_init.py:394\u001b[0m, in \u001b[0;36m_WandbInit._pause_backend\u001b[1;34m(self)\u001b[0m\n\u001b[0;32m    392\u001b[0m     res \u001b[39m=\u001b[39m \u001b[39mself\u001b[39m\u001b[39m.\u001b[39mrun\u001b[39m.\u001b[39mlog_code(root\u001b[39m=\u001b[39m\u001b[39mNone\u001b[39;00m)\n\u001b[0;32m    393\u001b[0m     logger\u001b[39m.\u001b[39minfo(\u001b[39m\"\u001b[39m\u001b[39msaved code: \u001b[39m\u001b[39m%s\u001b[39;00m\u001b[39m\"\u001b[39m, res)\n\u001b[1;32m--> 394\u001b[0m \u001b[39mself\u001b[39;49m\u001b[39m.\u001b[39;49mbackend\u001b[39m.\u001b[39;49minterface\u001b[39m.\u001b[39;49mpublish_pause()\n",
      "File \u001b[1;32mc:\\Users\\viet tran\\Desktop\\Masterthesis\\Program\\venv_cnn\\lib\\site-packages\\wandb\\sdk\\interface\\interface.py:636\u001b[0m, in \u001b[0;36mInterfaceBase.publish_pause\u001b[1;34m(self)\u001b[0m\n\u001b[0;32m    634\u001b[0m \u001b[39mdef\u001b[39;00m \u001b[39mpublish_pause\u001b[39m(\u001b[39mself\u001b[39m) \u001b[39m-\u001b[39m\u001b[39m>\u001b[39m \u001b[39mNone\u001b[39;00m:\n\u001b[0;32m    635\u001b[0m     pause \u001b[39m=\u001b[39m pb\u001b[39m.\u001b[39mPauseRequest()\n\u001b[1;32m--> 636\u001b[0m     \u001b[39mself\u001b[39;49m\u001b[39m.\u001b[39;49m_publish_pause(pause)\n",
      "File \u001b[1;32mc:\\Users\\viet tran\\Desktop\\Masterthesis\\Program\\venv_cnn\\lib\\site-packages\\wandb\\sdk\\interface\\interface_shared.py:308\u001b[0m, in \u001b[0;36mInterfaceShared._publish_pause\u001b[1;34m(self, pause)\u001b[0m\n\u001b[0;32m    306\u001b[0m \u001b[39mdef\u001b[39;00m \u001b[39m_publish_pause\u001b[39m(\u001b[39mself\u001b[39m, pause: pb\u001b[39m.\u001b[39mPauseRequest) \u001b[39m-\u001b[39m\u001b[39m>\u001b[39m \u001b[39mNone\u001b[39;00m:\n\u001b[0;32m    307\u001b[0m     rec \u001b[39m=\u001b[39m \u001b[39mself\u001b[39m\u001b[39m.\u001b[39m_make_request(pause\u001b[39m=\u001b[39mpause)\n\u001b[1;32m--> 308\u001b[0m     \u001b[39mself\u001b[39;49m\u001b[39m.\u001b[39;49m_publish(rec)\n",
      "File \u001b[1;32mc:\\Users\\viet tran\\Desktop\\Masterthesis\\Program\\venv_cnn\\lib\\site-packages\\wandb\\sdk\\interface\\interface_sock.py:51\u001b[0m, in \u001b[0;36mInterfaceSock._publish\u001b[1;34m(self, record, local)\u001b[0m\n\u001b[0;32m     49\u001b[0m \u001b[39mdef\u001b[39;00m \u001b[39m_publish\u001b[39m(\u001b[39mself\u001b[39m, record: \u001b[39m\"\u001b[39m\u001b[39mpb.Record\u001b[39m\u001b[39m\"\u001b[39m, local: \u001b[39mbool\u001b[39m \u001b[39m=\u001b[39m \u001b[39mNone\u001b[39;00m) \u001b[39m-\u001b[39m\u001b[39m>\u001b[39m \u001b[39mNone\u001b[39;00m:\n\u001b[0;32m     50\u001b[0m     \u001b[39mself\u001b[39m\u001b[39m.\u001b[39m_assign(record)\n\u001b[1;32m---> 51\u001b[0m     \u001b[39mself\u001b[39;49m\u001b[39m.\u001b[39;49m_sock_client\u001b[39m.\u001b[39;49msend_record_publish(record)\n",
      "File \u001b[1;32mc:\\Users\\viet tran\\Desktop\\Masterthesis\\Program\\venv_cnn\\lib\\site-packages\\wandb\\sdk\\lib\\sock_client.py:221\u001b[0m, in \u001b[0;36mSockClient.send_record_publish\u001b[1;34m(self, record)\u001b[0m\n\u001b[0;32m    219\u001b[0m server_req \u001b[39m=\u001b[39m spb\u001b[39m.\u001b[39mServerRequest()\n\u001b[0;32m    220\u001b[0m server_req\u001b[39m.\u001b[39mrecord_publish\u001b[39m.\u001b[39mCopyFrom(record)\n\u001b[1;32m--> 221\u001b[0m \u001b[39mself\u001b[39;49m\u001b[39m.\u001b[39;49msend_server_request(server_req)\n",
      "File \u001b[1;32mc:\\Users\\viet tran\\Desktop\\Masterthesis\\Program\\venv_cnn\\lib\\site-packages\\wandb\\sdk\\lib\\sock_client.py:155\u001b[0m, in \u001b[0;36mSockClient.send_server_request\u001b[1;34m(self, msg)\u001b[0m\n\u001b[0;32m    154\u001b[0m \u001b[39mdef\u001b[39;00m \u001b[39msend_server_request\u001b[39m(\u001b[39mself\u001b[39m, msg: Any) \u001b[39m-\u001b[39m\u001b[39m>\u001b[39m \u001b[39mNone\u001b[39;00m:\n\u001b[1;32m--> 155\u001b[0m     \u001b[39mself\u001b[39;49m\u001b[39m.\u001b[39;49m_send_message(msg)\n",
      "File \u001b[1;32mc:\\Users\\viet tran\\Desktop\\Masterthesis\\Program\\venv_cnn\\lib\\site-packages\\wandb\\sdk\\lib\\sock_client.py:152\u001b[0m, in \u001b[0;36mSockClient._send_message\u001b[1;34m(self, msg)\u001b[0m\n\u001b[0;32m    150\u001b[0m header \u001b[39m=\u001b[39m struct\u001b[39m.\u001b[39mpack(\u001b[39m\"\u001b[39m\u001b[39m<BI\u001b[39m\u001b[39m\"\u001b[39m, \u001b[39mord\u001b[39m(\u001b[39m\"\u001b[39m\u001b[39mW\u001b[39m\u001b[39m\"\u001b[39m), raw_size)\n\u001b[0;32m    151\u001b[0m \u001b[39mwith\u001b[39;00m \u001b[39mself\u001b[39m\u001b[39m.\u001b[39m_lock:\n\u001b[1;32m--> 152\u001b[0m     \u001b[39mself\u001b[39;49m\u001b[39m.\u001b[39;49m_sendall_with_error_handle(header \u001b[39m+\u001b[39;49m data)\n",
      "File \u001b[1;32mc:\\Users\\viet tran\\Desktop\\Masterthesis\\Program\\venv_cnn\\lib\\site-packages\\wandb\\sdk\\lib\\sock_client.py:130\u001b[0m, in \u001b[0;36mSockClient._sendall_with_error_handle\u001b[1;34m(self, data)\u001b[0m\n\u001b[0;32m    128\u001b[0m start_time \u001b[39m=\u001b[39m time\u001b[39m.\u001b[39mmonotonic()\n\u001b[0;32m    129\u001b[0m \u001b[39mtry\u001b[39;00m:\n\u001b[1;32m--> 130\u001b[0m     sent \u001b[39m=\u001b[39m \u001b[39mself\u001b[39;49m\u001b[39m.\u001b[39;49m_sock\u001b[39m.\u001b[39;49msend(data)\n\u001b[0;32m    131\u001b[0m     \u001b[39m# sent equal to 0 indicates a closed socket\u001b[39;00m\n\u001b[0;32m    132\u001b[0m     \u001b[39mif\u001b[39;00m sent \u001b[39m==\u001b[39m \u001b[39m0\u001b[39m:\n",
      "\u001b[1;31mConnectionResetError\u001b[0m: [WinError 10054] An existing connection was forcibly closed by the remote host"
     ]
    }
   ],
   "source": [
    "wandb.agent(sweep_id, train, count=20)"
   ]
  },
  {
   "cell_type": "code",
   "execution_count": null,
   "metadata": {},
   "outputs": [],
   "source": [
    "''' \n",
    "Iterations: number of batches to complete one epoch \n",
    "Batches: number of training samples in one iteration \n",
    "Steps per epoch = number of training sample // batch size\n",
    "'''\n"
   ]
  }
 ],
 "metadata": {
  "kernelspec": {
   "display_name": "Python 3.8.3 ('venv_cnn': venv)",
   "language": "python",
   "name": "python3"
  },
  "language_info": {
   "codemirror_mode": {
    "name": "ipython",
    "version": 3
   },
   "file_extension": ".py",
   "mimetype": "text/x-python",
   "name": "python",
   "nbconvert_exporter": "python",
   "pygments_lexer": "ipython3",
   "version": "3.8.3"
  },
  "orig_nbformat": 4,
  "vscode": {
   "interpreter": {
    "hash": "d4c749f7bdb0f444177ba46f7226c1f18447eea57a10fa878655d732524bf2a6"
   }
  }
 },
 "nbformat": 4,
 "nbformat_minor": 2
}
