{
 "cells": [
  {
   "cell_type": "code",
   "execution_count": null,
   "metadata": {},
   "outputs": [],
   "source": [
    "from helper import * \n",
    "import matplotlib.pyplot as plt \n",
    "import matplotlib.image as mpimg\n",
    "from sklearn.model_selection import train_test_split\n",
    "\n",
    "path = 'data'\n",
    "df = load_data(f'{path}/driving_log.csv')\n",
    "df = balance_data(df, 'Steering')\n",
    "df"
   ]
  },
  {
   "cell_type": "markdown",
   "metadata": {},
   "source": [
    "The car go straight most of the time that makes steering values around 0 extremely higher than the other. Drop the steering data to balance the whole dataset. "
   ]
  },
  {
   "cell_type": "code",
   "execution_count": null,
   "metadata": {},
   "outputs": [],
   "source": [
    "imgPath, steering = load_data_toArray(path, df)\n",
    "# fixed value for random_state to keep train and test datasets same each time\n",
    "X_train, X_val, Y_train, Y_val = train_test_split(imgPath, steering, test_size=0.2, random_state=1) \n",
    "print(X_train.shape)\n",
    "print(Y_train.shape)\n",
    "print(\"Training imgs: \", len(X_train))\n",
    "print(\"Test imgs: \", len(X_val))"
   ]
  },
  {
   "cell_type": "code",
   "execution_count": null,
   "metadata": {},
   "outputs": [],
   "source": [
    "# import wandb\n",
    "# from wandb.keras import WandbCallback\n",
    "\n",
    "# def train():\n",
    "#     wandb.init(project='cnn_thesis', config=config_defaults)\n",
    "#     batch_size = 10\n",
    "#     build_network().fit(batch_generator(X_train, Y_train, batch_size, 1), \n",
    "#             steps_per_epoch=(X_train.shape[0]//batch_size),\n",
    "#             validation_data=batch_generator(X_val, Y_val, batch_size, 0), \n",
    "#             validation_steps=(X_val.shape[0]//batch_size),\n",
    "#             verbose=1, epochs=config_defaults.epoch)"
   ]
  },
  {
   "cell_type": "code",
   "execution_count": null,
   "metadata": {},
   "outputs": [],
   "source": [
    "# sweep_config = {\n",
    "#     'method': 'random',\n",
    "#     'name': 'sweep',\n",
    "#     'metric': {\n",
    "#         'name': 'val_loss',\n",
    "#         'goal': 'minimize'\n",
    "#     },\n",
    "#     'parameters':{\n",
    "#         'epochs': {\n",
    "#             'values': [10, 20, 30]\n",
    "#         },\n",
    "#         'lr': {\n",
    "#             'distribution': 'uniform',\n",
    "#             'min': 0.001, \n",
    "#             'max': 0.1\n",
    "#         },\n",
    "#         'optimizer':{ \n",
    "#             'values': ['adam', 'sgd']\n",
    "#         },\n",
    "#         'activation': {\n",
    "#             'values': ['relu', 'elu', 'tanh']\n",
    "#         }\n",
    "\n",
    "#     }\n",
    "# }\n",
    "# sweep_id = wandb.sweep(sweep=sweep_config, project='cnn_thesis')\n",
    "# wandb.agent(sweep_id, function=train, count=10)\n",
    "# log_callback = WandbCallback(log_evaluation=True)"
   ]
  },
  {
   "cell_type": "code",
   "execution_count": null,
   "metadata": {},
   "outputs": [],
   "source": [
    "''' \n",
    "Iterations: number of batches to complete one epoch \n",
    "Batches: number of training samples in one iteration \n",
    "Steps per epoch = number of training sample // batch size\n",
    "'''\n"
   ]
  }
 ],
 "metadata": {
  "kernelspec": {
   "display_name": "Python 3.8.3 ('venv_cnn': venv)",
   "language": "python",
   "name": "python3"
  },
  "language_info": {
   "codemirror_mode": {
    "name": "ipython",
    "version": 3
   },
   "file_extension": ".py",
   "mimetype": "text/x-python",
   "name": "python",
   "nbconvert_exporter": "python",
   "pygments_lexer": "ipython3",
   "version": "3.8.3"
  },
  "orig_nbformat": 4,
  "vscode": {
   "interpreter": {
    "hash": "d4c749f7bdb0f444177ba46f7226c1f18447eea57a10fa878655d732524bf2a6"
   }
  }
 },
 "nbformat": 4,
 "nbformat_minor": 2
}
