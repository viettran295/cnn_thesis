{
 "cells": [
  {
   "cell_type": "code",
   "execution_count": null,
   "metadata": {},
   "outputs": [],
   "source": [
    "from helper import * \n",
    "import matplotlib.pyplot as plt \n",
    "import matplotlib.image as mpimg\n",
    "from sklearn.model_selection import train_test_split\n",
    "\n",
    "path = 'data'\n",
    "df = load_data(f'{path}/driving_log.csv')\n",
    "df = balance_data(df, 'Steering')\n",
    "df"
   ]
  },
  {
   "cell_type": "markdown",
   "metadata": {},
   "source": [
    "The car go straight most of the time that makes steering values around 0 extremely higher than the other. Drop the steering data to balance the whole dataset. "
   ]
  },
  {
   "cell_type": "code",
   "execution_count": null,
   "metadata": {},
   "outputs": [],
   "source": [
    "img_path, steering = load_data_to_array(path, df)\n",
    "# fixed value for random_state to keep train and test datasets same each time\n",
    "X_train, X_val, Y_train, Y_val = train_test_split(img_path, steering, test_size=0.2, random_state=1) \n",
    "X_train, Y_train = img_preprocess_pipeline(X_train, Y_train, 1)\n",
    "X_val, Y_val = img_preprocess_pipeline(X_val, Y_val, 0 )\n",
    "\n",
    "print(X_train.shape)\n",
    "print(Y_train.shape)\n",
    "print(\"Training imgs: \", len(X_train))\n",
    "print(\"Test imgs: \", len(X_val))"
   ]
  },
  {
   "cell_type": "code",
   "execution_count": null,
   "metadata": {},
   "outputs": [],
   "source": [
    "import wandb\n",
    "from wandb.keras import WandbCallback\n",
    "from wandb_config import sweep_config\n",
    "\n",
    "wandb.init(project='cnn_thesis')\n",
    "\n",
    "sweep_id = wandb.sweep(sweep_config, project='cnn_thesis')\n",
    "log_callback = WandbCallback(log_evaluation=True)"
   ]
  },
  {
   "cell_type": "code",
   "execution_count": null,
   "metadata": {},
   "outputs": [],
   "source": [
    "\n",
    "def train(config=None):\n",
    "    with wandb.init(config=config):\n",
    "        config = wandb.config\n",
    "        \n",
    "        optim = build_optimizer(config.optimizer, config.learning_rate)\n",
    "        model = build_network(activation=config.activation, optimizer=optim)\n",
    "        \n",
    "        model.fit(X_train, Y_train, validation_data=(X_val, Y_val), batch_size=config.batch_size,\n",
    "                        verbose=1, epochs=config.epochs, callbacks=[log_callback])"
   ]
  },
  {
   "cell_type": "code",
   "execution_count": null,
   "metadata": {},
   "outputs": [],
   "source": [
    "wandb.agent(sweep_id, train, count=20)"
   ]
  },
  {
   "cell_type": "code",
   "execution_count": null,
   "metadata": {},
   "outputs": [],
   "source": [
    "''' \n",
    "Iterations: number of batches to complete one epoch \n",
    "Batches: number of training samples in one iteration \n",
    "Steps per epoch = number of training sample // batch size\n",
    "'''\n"
   ]
  }
 ],
 "metadata": {
  "kernelspec": {
   "display_name": "Python 3.8.3 ('venv_cnn': venv)",
   "language": "python",
   "name": "python3"
  },
  "language_info": {
   "codemirror_mode": {
    "name": "ipython",
    "version": 3
   },
   "file_extension": ".py",
   "mimetype": "text/x-python",
   "name": "python",
   "nbconvert_exporter": "python",
   "pygments_lexer": "ipython3",
   "version": "3.8.3"
  },
  "orig_nbformat": 4,
  "vscode": {
   "interpreter": {
    "hash": "d4c749f7bdb0f444177ba46f7226c1f18447eea57a10fa878655d732524bf2a6"
   }
  }
 },
 "nbformat": 4,
 "nbformat_minor": 2
}
