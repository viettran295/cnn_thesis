{
 "cells": [
  {
   "cell_type": "code",
   "execution_count": 1,
   "metadata": {},
   "outputs": [
    {
     "data": {
      "text/plain": [
       "(array(['data\\\\IMG\\\\center_2022_10_18_15_59_57_016.jpg',\n",
       "        'data\\\\IMG\\\\center_2022_10_18_15_59_57_085.jpg',\n",
       "        'data\\\\IMG\\\\center_2022_10_18_15_59_57_233.jpg', ...,\n",
       "        'data\\\\IMG\\\\center_2022_10_19_08_16_07_822.jpg',\n",
       "        'data\\\\IMG\\\\center_2022_10_19_08_16_07_905.jpg',\n",
       "        'data\\\\IMG\\\\center_2022_10_19_08_16_07_990.jpg'], dtype='<U43'),\n",
       " array([0., 0., 0., ..., 0., 0., 0.]))"
      ]
     },
     "execution_count": 1,
     "metadata": {},
     "output_type": "execute_result"
    }
   ],
   "source": [
    "from helper import * \n",
    "import numpy as np \n",
    "\n",
    "\n",
    "path = 'data'\n",
    "data = load_data(f\"{path}/driving_log.csv\")\n",
    "\n",
    "# balance_data(data, 'Steering')\n",
    "\n",
    "img_arr, steering_arr = load_data_to_array(path, data)\n",
    "img_arr, steering_arr"
   ]
  },
  {
   "cell_type": "code",
   "execution_count": 3,
   "metadata": {},
   "outputs": [
    {
     "name": "stdout",
     "output_type": "stream",
     "text": [
      "[[[0.16470588 0.50588235 0.48627451]\n",
      "  [0.14901961 0.50588235 0.48627451]\n",
      "  [0.1372549  0.50588235 0.48627451]\n",
      "  ...\n",
      "  [0.43529412 0.45882353 0.50196078]\n",
      "  [0.43529412 0.4627451  0.50196078]\n",
      "  [0.41176471 0.46666667 0.50196078]]\n",
      "\n",
      " [[0.16470588 0.50588235 0.48627451]\n",
      "  [0.14901961 0.50588235 0.48627451]\n",
      "  [0.1372549  0.50588235 0.48627451]\n",
      "  ...\n",
      "  [0.42745098 0.45882353 0.50196078]\n",
      "  [0.43137255 0.4627451  0.50196078]\n",
      "  [0.40784314 0.4627451  0.50196078]]\n",
      "\n",
      " [[0.16078431 0.50588235 0.48627451]\n",
      "  [0.14901961 0.50588235 0.48627451]\n",
      "  [0.1372549  0.50588235 0.48627451]\n",
      "  ...\n",
      "  [0.40784314 0.45882353 0.50196078]\n",
      "  [0.42745098 0.4627451  0.50196078]\n",
      "  [0.4        0.4627451  0.50196078]]\n",
      "\n",
      " ...\n",
      "\n",
      " [[0.67843137 0.49411765 0.51372549]\n",
      "  [0.6745098  0.49411765 0.51372549]\n",
      "  [0.6745098  0.49411765 0.51372549]\n",
      "  ...\n",
      "  [0.57647059 0.49411765 0.50980392]\n",
      "  [0.58039216 0.49411765 0.50980392]\n",
      "  [0.58431373 0.49411765 0.50980392]]\n",
      "\n",
      " [[0.6745098  0.49411765 0.51372549]\n",
      "  [0.67058824 0.49411765 0.51372549]\n",
      "  [0.66666667 0.49411765 0.51372549]\n",
      "  ...\n",
      "  [0.56078431 0.49411765 0.50980392]\n",
      "  [0.56862745 0.49411765 0.50980392]\n",
      "  [0.57647059 0.49411765 0.50980392]]\n",
      "\n",
      " [[0.67058824 0.49411765 0.51372549]\n",
      "  [0.67058824 0.49411765 0.51372549]\n",
      "  [0.66666667 0.49411765 0.51372549]\n",
      "  ...\n",
      "  [0.55686275 0.49411765 0.50588235]\n",
      "  [0.56078431 0.49411765 0.50588235]\n",
      "  [0.56862745 0.49411765 0.50588235]]]\n"
     ]
    }
   ],
   "source": [
    "import matplotlib.pyplot as plt \n",
    "\n",
    "img, steering = img_preprocess_pipeline(img_arr, steering_arr)\n",
    "print(img[0])"
   ]
  },
  {
   "cell_type": "code",
   "execution_count": null,
   "metadata": {},
   "outputs": [],
   "source": []
  }
 ],
 "metadata": {
  "kernelspec": {
   "display_name": "Python 3.8.3 ('venv_cnn': venv)",
   "language": "python",
   "name": "python3"
  },
  "language_info": {
   "codemirror_mode": {
    "name": "ipython",
    "version": 3
   },
   "file_extension": ".py",
   "mimetype": "text/x-python",
   "name": "python",
   "nbconvert_exporter": "python",
   "pygments_lexer": "ipython3",
   "version": "3.8.3"
  },
  "orig_nbformat": 4,
  "vscode": {
   "interpreter": {
    "hash": "d4c749f7bdb0f444177ba46f7226c1f18447eea57a10fa878655d732524bf2a6"
   }
  }
 },
 "nbformat": 4,
 "nbformat_minor": 2
}
