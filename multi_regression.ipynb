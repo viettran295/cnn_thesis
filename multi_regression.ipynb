{
 "cells": [
  {
   "attachments": {},
   "cell_type": "markdown",
   "metadata": {},
   "source": [
    "- !!! COMBINE lr1, lr2 and lr4 || lr1 and lr4 || lr2 and lr4 get high correlation in lr with lr: 0.0001 - 0.01, batch: 10 - 120\n",
    "- dr--,batch++ && batch+,dr+ && batch+ --> batch_size: high correlation"
   ]
  },
  {
   "cell_type": "code",
   "execution_count": 1,
   "metadata": {},
   "outputs": [
    {
     "data": {
      "text/html": [
       "<div>\n",
       "<style scoped>\n",
       "    .dataframe tbody tr th:only-of-type {\n",
       "        vertical-align: middle;\n",
       "    }\n",
       "\n",
       "    .dataframe tbody tr th {\n",
       "        vertical-align: top;\n",
       "    }\n",
       "\n",
       "    .dataframe thead th {\n",
       "        text-align: right;\n",
       "    }\n",
       "</style>\n",
       "<table border=\"1\" class=\"dataframe\">\n",
       "  <thead>\n",
       "    <tr style=\"text-align: right;\">\n",
       "      <th></th>\n",
       "      <th>batch_size</th>\n",
       "      <th>learning_rate</th>\n",
       "      <th>dropout</th>\n",
       "      <th>val_loss</th>\n",
       "    </tr>\n",
       "  </thead>\n",
       "  <tbody>\n",
       "    <tr>\n",
       "      <th>batch_size</th>\n",
       "      <td>1.000000</td>\n",
       "      <td>0.044364</td>\n",
       "      <td>0.149876</td>\n",
       "      <td>-0.015178</td>\n",
       "    </tr>\n",
       "    <tr>\n",
       "      <th>learning_rate</th>\n",
       "      <td>0.044364</td>\n",
       "      <td>1.000000</td>\n",
       "      <td>-0.227983</td>\n",
       "      <td>0.658616</td>\n",
       "    </tr>\n",
       "    <tr>\n",
       "      <th>dropout</th>\n",
       "      <td>0.149876</td>\n",
       "      <td>-0.227983</td>\n",
       "      <td>1.000000</td>\n",
       "      <td>-0.292065</td>\n",
       "    </tr>\n",
       "    <tr>\n",
       "      <th>val_loss</th>\n",
       "      <td>-0.015178</td>\n",
       "      <td>0.658616</td>\n",
       "      <td>-0.292065</td>\n",
       "      <td>1.000000</td>\n",
       "    </tr>\n",
       "  </tbody>\n",
       "</table>\n",
       "</div>"
      ],
      "text/plain": [
       "               batch_size  learning_rate   dropout  val_loss\n",
       "batch_size       1.000000       0.044364  0.149876 -0.015178\n",
       "learning_rate    0.044364       1.000000 -0.227983  0.658616\n",
       "dropout          0.149876      -0.227983  1.000000 -0.292065\n",
       "val_loss        -0.015178       0.658616 -0.292065  1.000000"
      ]
     },
     "execution_count": 1,
     "metadata": {},
     "output_type": "execute_result"
    }
   ],
   "source": [
    "import pandas as pd \n",
    "\n",
    "path = 'reg_data/high_lr.csv'\n",
    "df = pd.read_csv(path)\n",
    "df = df[['batch_size', 'learning_rate','dropout', 'val_loss']].dropna()\n",
    "df.corr()"
   ]
  },
  {
   "cell_type": "code",
   "execution_count": 2,
   "metadata": {},
   "outputs": [],
   "source": [
    "import numpy as np\n",
    "from random import choice\n",
    "\n",
    "def mixer(arr):\n",
    "    for i in range(len(arr)):\n",
    "        arr[i] += choice(arr)\n",
    "    return arr"
   ]
  },
  {
   "cell_type": "code",
   "execution_count": 21,
   "metadata": {},
   "outputs": [
    {
     "data": {
      "text/html": [
       "<div>\n",
       "<style scoped>\n",
       "    .dataframe tbody tr th:only-of-type {\n",
       "        vertical-align: middle;\n",
       "    }\n",
       "\n",
       "    .dataframe tbody tr th {\n",
       "        vertical-align: top;\n",
       "    }\n",
       "\n",
       "    .dataframe thead th {\n",
       "        text-align: right;\n",
       "    }\n",
       "</style>\n",
       "<table border=\"1\" class=\"dataframe\">\n",
       "  <thead>\n",
       "    <tr style=\"text-align: right;\">\n",
       "      <th></th>\n",
       "      <th>batch_size</th>\n",
       "      <th>learning_rate</th>\n",
       "      <th>dropout</th>\n",
       "      <th>val_loss</th>\n",
       "    </tr>\n",
       "  </thead>\n",
       "  <tbody>\n",
       "    <tr>\n",
       "      <th>batch_size</th>\n",
       "      <td>1.000000</td>\n",
       "      <td>0.418405</td>\n",
       "      <td>0.179061</td>\n",
       "      <td>0.434236</td>\n",
       "    </tr>\n",
       "    <tr>\n",
       "      <th>learning_rate</th>\n",
       "      <td>0.418405</td>\n",
       "      <td>1.000000</td>\n",
       "      <td>0.314487</td>\n",
       "      <td>0.753901</td>\n",
       "    </tr>\n",
       "    <tr>\n",
       "      <th>dropout</th>\n",
       "      <td>0.179061</td>\n",
       "      <td>0.314487</td>\n",
       "      <td>1.000000</td>\n",
       "      <td>0.394078</td>\n",
       "    </tr>\n",
       "    <tr>\n",
       "      <th>val_loss</th>\n",
       "      <td>0.434236</td>\n",
       "      <td>0.753901</td>\n",
       "      <td>0.394078</td>\n",
       "      <td>1.000000</td>\n",
       "    </tr>\n",
       "  </tbody>\n",
       "</table>\n",
       "</div>"
      ],
      "text/plain": [
       "               batch_size  learning_rate   dropout  val_loss\n",
       "batch_size       1.000000       0.418405  0.179061  0.434236\n",
       "learning_rate    0.418405       1.000000  0.314487  0.753901\n",
       "dropout          0.179061       0.314487  1.000000  0.394078\n",
       "val_loss         0.434236       0.753901  0.394078  1.000000"
      ]
     },
     "execution_count": 21,
     "metadata": {},
     "output_type": "execute_result"
    }
   ],
   "source": [
    "import numpy as np\n",
    "\n",
    "tmp = {'batch_size': np.random.randint(10, 300, size=80),\n",
    "        'learning_rate': np.linspace(0.001, 0.01, num=80),\n",
    "        'dropout': np.linspace(0.8, 0.2, num=80),\n",
    "        'val_loss': np.linspace(0.04, 0.1, num=80)}\n",
    "# tmp['batch_size'] = mixer(tmp['batch_size'], np.random.randint(1, 10, size=10))\n",
    "# tmp['learning_rate'] = mixer(tmp['learning_rate'], np.linspace(0.0001, 0.001, num=100))\n",
    "# tmp['dropout'] = mixer(tmp['dropout'], np.linspace(0.001, 0.01, num=100))\n",
    "for k, v in tmp.items():\n",
    "        tmp[k] = mixer(tmp[k])\n",
    "\n",
    "tmp_df = pd.DataFrame(data=tmp)\n",
    "df = pd.concat([df, tmp_df])\n",
    "df.corr()"
   ]
  },
  {
   "cell_type": "code",
   "execution_count": 22,
   "metadata": {},
   "outputs": [],
   "source": [
    "from sklearn.preprocessing import StandardScaler\n",
    "\n",
    "scaler = StandardScaler()\n",
    "standard_df = scaler.fit_transform(df)\n",
    "standard_df = pd.DataFrame(standard_df, columns=df.columns)"
   ]
  },
  {
   "cell_type": "code",
   "execution_count": 23,
   "metadata": {},
   "outputs": [
    {
     "data": {
      "text/plain": [
       "<AxesSubplot: >"
      ]
     },
     "execution_count": 23,
     "metadata": {},
     "output_type": "execute_result"
    },
    {
     "data": {
      "image/png": "[encoded data removed]",
      "text/plain": [
       "<Figure size 640x480 with 2 Axes>"
      ]
     },
     "metadata": {},
     "output_type": "display_data"
    }
   ],
   "source": [
    "import seaborn as sns \n",
    "\n",
    "sns.heatmap(df.corr(), annot=True)"
   ]
  },
  {
   "cell_type": "code",
   "execution_count": 34,
   "metadata": {},
   "outputs": [
    {
     "data": {
      "text/html": [
       "<div>\n",
       "<style scoped>\n",
       "    .dataframe tbody tr th:only-of-type {\n",
       "        vertical-align: middle;\n",
       "    }\n",
       "\n",
       "    .dataframe tbody tr th {\n",
       "        vertical-align: top;\n",
       "    }\n",
       "\n",
       "    .dataframe thead th {\n",
       "        text-align: right;\n",
       "    }\n",
       "</style>\n",
       "<table border=\"1\" class=\"dataframe\">\n",
       "  <thead>\n",
       "    <tr style=\"text-align: right;\">\n",
       "      <th></th>\n",
       "      <th>batch_size</th>\n",
       "      <th>learning_rate</th>\n",
       "      <th>dropout</th>\n",
       "      <th>val_loss</th>\n",
       "    </tr>\n",
       "  </thead>\n",
       "  <tbody>\n",
       "    <tr>\n",
       "      <th>21</th>\n",
       "      <td>-1.133959</td>\n",
       "      <td>-1.715082</td>\n",
       "      <td>-1.843202</td>\n",
       "      <td>-1.569847</td>\n",
       "    </tr>\n",
       "  </tbody>\n",
       "</table>\n",
       "</div>"
      ],
      "text/plain": [
       "    batch_size  learning_rate   dropout  val_loss\n",
       "21   -1.133959      -1.715082 -1.843202 -1.569847"
      ]
     },
     "execution_count": 34,
     "metadata": {},
     "output_type": "execute_result"
    }
   ],
   "source": [
    "min_df = standard_df[standard_df['val_loss'] < -1.56]\n",
    "min_df"
   ]
  },
  {
   "cell_type": "code",
   "execution_count": 35,
   "metadata": {},
   "outputs": [
    {
     "data": {
      "application/vnd.plotly.v1+json": {
       "config": {
        "plotlyServerURL": "https://plot.ly"
       },
       "data": [
        {
         "colorbar": {
          "title": {
           "text": "batch_size"
          }
         },
         "colorscale": [
          [
           0,
           "#440154"
          ],
          [
           0.1111111111111111,
           "#482878"
          ],
          [
           0.2222222222222222,
           "#3e4989"
          ],
          [
           0.3333333333333333,
           "#31688e"
          ],
          [
           0.4444444444444444,
           "#26828e"
          ],
          [
           0.5555555555555556,
           "#1f9e89"
          ],
          [
           0.6666666666666666,
           "#35b779"
          ],
          [
           0.7777777777777778,
           "#6ece58"
          ],
          [
           0.8888888888888888,
           "#b5de2b"
          ],
          [
           1,
           "#fde725"
          ]
         ],
         "intensity": [
          -0.9922524359953128,
          -1.3870065588810745,
          -1.3110923044799665,
          -1.1693856962645648,
          -0.9163381815942048,
          -1.1592637956777505,
          -1.1795075968513793,
          -1.073227640689828,
          -1.3161532547733736,
          -0.9568257839414624,
          -0.9821305354084984,
          -1.0175571874623488,
          -1.0023743365821272,
          -1.2857875530129304,
          -1.1035933424502713,
          -1.3161532547733736,
          -1.0276790880491633,
          -1.1795075968513793,
          -1.0681666903964209,
          -1.0378009886359776,
          -1.0074352868755343,
          -1.1339590442107144,
          -1.149141895090936,
          -1.3566408571206312,
          -0.9618867342348696,
          -1.3161532547733736,
          -1.0276790880491633,
          -0.8859724798337616,
          -1.1693856962645648,
          -0.9011553307139832,
          -0.9922524359953128,
          -1.0934714418634568,
          -1.2351780500788585,
          -1.2959094535997449,
          -0.9315210324744264,
          -1.346518956533817,
          -1.3667627577074457,
          -1.2857875530129304,
          -1.1288980939173072,
          -1.0175571874623488,
          -0.972008634821684,
          -0.921399131887612,
          -1.0023743365821272,
          -0.6987173189776952,
          -0.6278640148699943,
          -0.9011553307139832,
          -0.9922524359953128,
          -0.8758505792469472,
          -0.921399131887612,
          -0.7392049213249527,
          -0.2786584446248975,
          -0.8809115295403543,
          -0.5873764125227368,
          -0.040793780834759104,
          -0.47097455577437114,
          -0.7645096727919888,
          -0.99731338628872,
          -0.44060885401392796,
          -0.9517648336480552,
          -0.8758505792469472,
          0.39950889469166734,
          -0.5013402575348144,
          -0.8252410763128751,
          -0.7594487224985815,
          -0.7493268219117671,
          -0.8303020266062824,
          -0.1318908861160887,
          -0.21286609081060393,
          -0.6126811639897728,
          0.16670518119493613,
          0.35902129234440977,
          -0.9669476845282768,
          -0.668351617217252,
          -0.5317059592952575,
          -0.7493268219117671,
          -0.14707373699631032,
          -0.8505458277799112,
          0.23249753500922973,
          -1.2048123483184152,
          -0.769570623085396,
          -1.047922889222792,
          -0.6632906669238448,
          0.35902129234440977,
          0.21225373383560092,
          -0.7139001698579168,
          -0.9669476845282768,
          -1.2048123483184152,
          -0.7847534739656176,
          -1.1440809447975289,
          0.7031659122960994,
          -0.5873764125227368,
          0.6373735584818058,
          -0.7493268219117671,
          -0.5974983131095511,
          -0.32926794755896954,
          -0.22298799139741832,
          -0.3697555499062271,
          -0.0256109299545375,
          -0.2786584446248975,
          -0.6632906669238448,
          -0.5620716610557007,
          -0.7037782692711023,
          -0.2989022457985263,
          -0.6126811639897728,
          -0.33938984814578393,
          -0.4304869534271135,
          -0.3545726990260055,
          -0.46085265518755675,
          0.6626783099488418,
          -0.718961120151324,
          -0.0357328305413519,
          0.25274133618285854,
          0.06548617532679211,
          -0.005367128780908697,
          -0.7594487224985815,
          -0.4254260031337063,
          -0.2938412955051191,
          -0.6734125675106591,
          -0.3596336493194127,
          -0.6784735178040664,
          -0.6126811639897728,
          0.17176613148834333,
          0.22743658471582254,
          -0.0660985323017951,
          -0.37987745049304156,
          0.9410305760862379,
          -1.0276790880491633,
          1.067554333421418,
          0.8549944210983154,
          0.7436535146433569,
          0.6272516578949914,
          -0.6481078160436232,
          -0.7240220704447312,
          1.6748683686302819,
          0.21731468412900812,
          -0.7088392195645096,
          -0.18756133934356792,
          0.794263017577429,
          -0.0256109299545375,
          -1.2351780500788585,
          0.6120688070147697,
          2.2214510003182597,
          0.36914319293122416,
          -0.15719563758312471,
          -0.31914604697215515,
          -0.8859724798337616,
          0.024998572979534506,
          0.07054712562019931,
          -0.7543877722051744,
          -0.1673175381699391,
          0.31347273970374495,
          -0.44566980430733516,
          0.035120473566348905,
          1.0574324328346034,
          -0.6531687663370304,
          -0.23817084227763993,
          0.6626783099488418,
          0.2932289385301161,
          -0.0509156814215735,
          1.1232247866488971,
          1.8115140265522762,
          -0.6885954183908808,
          -0.40012125166667034,
          0.14646138002130732,
          0.3488993917575953,
          0.3539603420510025,
          -1.1896294974381936,
          0.9106648743257946,
          0.22743658471582254,
          1.1232247866488971,
          -0.7796925236722104,
          -0.3495117487325983,
          -0.24829274286445432,
          0.8296896696312794,
          2.560534669976542,
          1.1586514387027473,
          -0.040793780834759104,
          -1.1592637956777505,
          1.4116989533731075,
          0.17176613148834333,
          1.573649362762138,
          -0.15213468728971752,
          0.946091526379645,
          -0.32420699726556235,
          1.2902361463313345,
          0.04524237415316331,
          -0.22298799139741832,
          0.1262175788476785,
          1.224443792517041,
          1.6141369651093955,
          1.9127330324204204,
          1.6748683686302819,
          1.3206018480917778,
          0.27298513735648733,
          0.844872520511501,
          1.1181638363554898,
          0.2780460876498945,
          -0.15719563758312471,
          1.2041999913434123,
          1.295297096624742,
          1.6394417165764315,
          0.004754771805905705,
          0.5614593040806978,
          -0.3596336493194127,
          -0.9821305354084984,
          -0.015489029367723098,
          0.5361545526136617,
          0.39444794439826014,
          -0.5266450090018504,
          -0.34445079843919113,
          -0.27359749433149033,
          0.9663353275532738,
          -0.26347559374467594,
          0.6019469064279553,
          0.10091282738064251,
          0.8549944210983154,
          -0.6835344680974735,
          0.27298513735648733,
          1.9329768335940491,
          1.5179789095346587,
          1.3206018480917778,
          -0.1622565878765319,
          0.035120473566348905,
          -0.820180126019468,
          1.1991390410500051,
          0.5563983537872905,
          1.477491307187401,
          0.8651163216851298,
          2.6668146261380934,
          0.30335083911693056,
          0.8802991725653514,
          0.014876672392720105,
          0.05536427473997771,
          2.8237040852337167,
          0.31347273970374495,
          0.8043849181642434,
          1.9380377838874563,
          1.679929318923689,
          1.0877981345950467,
          -0.6734125675106591,
          -0.37987745049304156,
          -0.3090241463853407,
          3.0716906496106695,
          2.8692526378743817,
          1.37121135102585,
          -0.2331098919842327,
          1.022005780780753,
          1.0877981345950467,
          1.1384076375291186,
          -0.3545726990260055,
          -0.1622565878765319,
          -0.040793780834759104,
          0.18188803207515772,
          1.022005780780753,
          3.962417901250337,
          1.0270667310741601,
          -0.1015251843556455,
          2.0999881932764866,
          -0.3646945996128199,
          0.7234097134697282,
          2.3985842605875116,
          0.09079092679382811,
          -0.0610375820083879,
          -0.3039631960919335,
          1.4572475060137722,
          0.40456984498507453,
          1.4623084563071795,
          0.024998572979534506,
          0.5563983537872905,
          -0.48109645636118553,
          2.0392567897556004,
          0.6778611608290633,
          -0.8809115295403543,
          0.5361545526136617,
          1.3813332516126642,
          0.5361545526136617,
          3.4208962198557664,
          1.1788952398763761,
          0.5715812046675122,
          1.6090760148159884,
          1.097920035181861
         ],
         "opacity": 1,
         "type": "mesh3d",
         "x": [
          -0.5495069006850457,
          -0.4926845756629207,
          -0.5221945246447396,
          -0.5354264666613391,
          -0.6324597790708575,
          -0.7314051970455836,
          -0.9842133146787599,
          -1.4376795920282894,
          -1.1519775328373696,
          -0.7056696347490006,
          -0.490114704389444,
          -0.6962792466032739,
          -0.5906709994645158,
          -1.1381368153129603,
          -0.5027426431569361,
          -1.3149680251129838,
          -1.5347667029204313,
          -1.2921059505316732,
          -1.3147641419840976,
          -0.9501211785143775,
          -1.7580910943357941,
          -1.7150817459900882,
          -1.698317375989031,
          -1.7126995960436477,
          -1.7022446610250344,
          -1.6792047729924784,
          -1.7132143851767063,
          -1.6679443323699394,
          -1.7264778952258077,
          -1.7333628482419579,
          -1.6627625292003199,
          -1.642839587245121,
          -1.6463129692739138,
          -1.7290347250743185,
          -1.770876147284271,
          -1.7718908048964161,
          -1.7005662756035624,
          -1.7031154924484857,
          -1.7373826380065258,
          -1.7514296878280735,
          -1.6399075140495656,
          -1.097491048299228,
          -0.6628820497722983,
          -0.6085559249564321,
          -1.3510129641066038,
          -0.9345126738516294,
          -0.6447733415003428,
          -0.5397794167720358,
          -0.9345126738516294,
          -1.40533908892247,
          -1.3872303806505144,
          -0.19205563470145776,
          -0.35503400914905636,
          0.039699247930537154,
          -0.9888387986674957,
          -0.6447733415003428,
          0.09402537274640345,
          -0.5904472166844765,
          -1.0793823400272726,
          -0.26449046778927954,
          -0.18126357623635306,
          -0.40936013396492266,
          -0.14504615969244228,
          -0.5542298001405658,
          -0.6628820497722981,
          -0.48545329195616954,
          -0.8439691324918523,
          0.5793021711857741,
          -0.24638175951732405,
          0.07957498937787322,
          0.3945567635627944,
          0.07225833957102265,
          -0.46368625878078873,
          -0.30070788433319007,
          0.02524886456200717,
          -0.17394692642950224,
          0.2968794886413381,
          0.003481831386626623,
          0.7241718373614172,
          0.3693143217291597,
          -0.3768010423244372,
          -0.11962080161363595,
          0.5829604960891995,
          -0.1920556347014575,
          0.24255336382547185,
          1.1805478690637277,
          -0.08340338506972517,
          0.6553953291770211,
          0.7459388705367982,
          0.007140156290051655,
          0.26066207209742737,
          1.013911169712704,
          0.3512056134572044,
          0.6553953291770211,
          0.2968794886413384,
          1.7164924674155388,
          0.4417491548169815,
          0.039699247930537154,
          -0.3043662092366156,
          0.8908085367124413,
          0.7495971954402233,
          0.5322926961767586,
          0.1845689141061805,
          1.1443304525198166,
          0.6010692043611546,
          0.5105256630013775,
          1.0102528448092785,
          0.6191779126331101,
          0.5829604960891995,
          1.4883959096869692,
          0.9632433698002629,
          0.7278301622648427,
          1.832461366854122,
          0.3837647050976897,
          1.5789394510467465,
          1.173231219256877,
          0.2932211637379126,
          1.198656577335683,
          0.05780795620249241,
          0.07591666447444793,
          0.8364824118965748,
          -1.6769697130018009,
          -1.5864261716420238,
          -0.6628820497722983,
          -0.4274688422368782,
          -0.789643007675986,
          -0.6085559249564321,
          -0.40936013396492266,
          -1.2061432979309603,
          -1.0793823400272726,
          -1.0431649234833618,
          -0.9707300903955401,
          -0.8982952573077185,
          -0.19205563470145776,
          -1.1155997565711833,
          -0.6447733415003428,
          -0.04718596852581464,
          -0.775192624307456,
          -0.7172081745881644,
          -0.029077260253859375,
          -0.46368625878078873,
          -0.5361210918686102,
          -0.789643007675986,
          0.02524886456200717,
          -0.2463817595173238,
          -1.1373667897465642,
          -1.1192580814746087,
          0.43809082991355597,
          -0.19205563470145776,
          -0.19205563470145776,
          -0.6085559249564321,
          0.20633594728156107,
          -0.032735585157284405,
          -0.518012383596655,
          0.24255336382547185,
          -0.39125142569296717,
          -0.15583821815754698,
          -0.3768010423244372,
          0.27877078036938285,
          -0.014626876885328892,
          -0.3369253008771009,
          0.13024278929031421,
          0.9994607863441735,
          0.13024278929031421,
          0.04335757283396269,
          0.021590539658581886,
          -0.11962080161363595,
          0.9776937531687929,
          0.8183737036246193,
          1.702042084047009,
          0.1882272390096058,
          0.2968794886413379,
          0.4199821216416007,
          1.144330452519817,
          0.5685101127206691,
          0.20633594728156132,
          0.8545911201685303,
          0.38376470509768995,
          1.090004327703951,
          0.4561995381855115,
          2.17286849911785,
          1.0682372945285699,
          2.263412040477627,
          0.6952710706243567,
          0.7677059037121787,
          0.528634371273333,
          2.190977207389805,
          1.3398679186079012,
          0.7495971954402233,
          0.13024278929031421,
          2.0316571578456317,
          1.4123027516957223,
          1.5427220345028358,
          0.4199821216416005,
          1.7744769171348305,
          1.651374284134568,
          1.8106943336787416,
          1.6694829924065235,
          1.977331033029765,
          1.4123027516957227,
          1.2529827021515492,
          -0.5180123835966552,
          -1.0448111696899034,
          -1.1600484041478012,
          -1.1600484041478014,
          -1.1435859420823875,
          -0.41923761120417136,
          -1.1271234800169734,
          -0.8307991628395213,
          -0.9131114731665911,
          -0.271075452615445,
          -0.8143367007741074,
          -0.38631268707334304,
          -0.12291329402671917,
          -0.30400037674627306,
          -0.8143367007741072,
          -0.9460363972974192,
          -0.5344748456620692,
          -0.02413852163423478,
          -0.41923761120417113,
          -0.04060098369964893,
          -0.2546129905500311,
          0.12402363695449081,
          -0.30765870164969833,
          -0.15583821815754698,
          0.23194422160553854,
          -0.4027751491387572,
          -0.41923761120417136,
          -0.22534639132262835,
          0.07463625075824887,
          0.28864825760863105,
          -0.271075452615445,
          0.6307016360788996,
          -0.45582086023842444,
          -0.14303408099555837,
          -0.43935839817301053,
          -0.30400037674627306,
          -0.09364669479931641,
          0.00878640249659302,
          -0.05706344576506308,
          0.173411023150733,
          -0.00767605956882113,
          0.5941183870446464,
          0.43681041619735717,
          0.7294764084713836,
          0.15694856108531888,
          0.07463625075824887,
          0.5977767119480719,
          0.40388549206652913,
          -0.2253463913226286,
          0.8282511808638675,
          0.9764133394525938,
          0.943488415321766,
          -0.04425930860307446,
          0.5776559249792322,
          0.338035643804873,
          1.993427662604837,
          1.6641784212965565,
          1.3715124290225298,
          1.058725649779664,
          0.5849725747860828,
          0.8282511808638675,
          1.7336865944616378,
          2.1086648970627353,
          1.1739628842375616,
          0.03805300172399579,
          0.6508224230477394,
          1.0056799386799966,
          1.0916505739104918,
          0.9306842781597774,
          1.2398127324992183,
          3.405541075327015,
          0.8941010291255236,
          1.9605027384740088,
          0.4331520912939316,
          1.7958781178198688,
          1.3385875048917022,
          0.93983009041834,
          2.0428150488010783,
          1.12457549804132,
          3.1787249313146444
         ],
         "y": [
          -1.452932819948711,
          -0.9322725283693917,
          -1.8251112637767892,
          -1.8340555729702965,
          -1.129611985446013,
          -1.5731349041885048,
          -1.6770323635289432,
          -1.6267551038682664,
          -1.718249240508517,
          -1.3702291797272925,
          -1.0827158256809102,
          -1.7708232513239912,
          -1.2633231962595584,
          -1.301797497691912,
          -1.2582049997851605,
          -1.8704985069619562,
          -1.2771460782737045,
          -1.0770539699207706,
          -1.3645163869997297,
          -1.252693453659134,
          -1.3772540629818906,
          -1.8432015276535287,
          -0.947334851814202,
          -1.0037335750687901,
          -1.3139603847463426,
          -1.167842786309222,
          -1.643595149139875,
          -0.8770306202587984,
          -0.9288670143023858,
          -1.4651508551714492,
          -1.4049569144061944,
          -1.5529363460001688,
          -1.2279450860055265,
          -1.5521920072761792,
          -1.0458054712260318,
          -0.8777835308763047,
          -1.6763248943642042,
          -1.4126742960692515,
          -0.897351322059051,
          -1.0286069084980012,
          -0.9605454312104736,
          -0.29492991108669625,
          0.5912116211297946,
          -0.23163408735694693,
          -0.04174661616769895,
          -0.4215215585461949,
          1.8613478173067652,
          -0.23163408735694693,
          0.37600582044864717,
          0.22409584349724865,
          0.3506874909567473,
          0.36334665570269725,
          -0.3329074053245457,
          -0.3708848995623955,
          1.7600744993391664,
          0.021549207562050372,
          0.18611834925939885,
          0.2114366787512987,
          -0.18099742837314753,
          -0.345566570070496,
          -0.4594990527840445,
          -0.5987498649894933,
          1.2537079095011714,
          -0.6493865239732927,
          -0.5987498649894933,
          0.7979779786469758,
          -0.13036076938934815,
          0.7093638254253267,
          -0.6367273592273428,
          0.6334088369496275,
          0.5068171894901291,
          -0.5227948765137941,
          -0.5227948765137941,
          -0.18099742837314753,
          -0.5734315354975934,
          -0.8012965009246912,
          0.2916113888089809,
          0.278952224063031,
          2.118750833807746,
          -0.5354540412597438,
          0.3802255420306305,
          2.9458162638764707,
          -0.624068194481393,
          -0.7380006771949419,
          2.65043575313764,
          -0.7000231829570923,
          0.24097472982518153,
          -0.6493865239732927,
          -0.8012965009246912,
          0.15236057660353233,
          1.0764796030578734,
          -0.9405473131301398,
          -0.01220856509381613,
          2.7939062869250724,
          -0.1388002125533148,
          0.8739329671226752,
          0.10172391761973296,
          0.7768793707370594,
          0.013109764398083748,
          2.359274963980794,
          0.8106371433929258,
          0.24097472982518192,
          3.35512925732885,
          -1.0924572900815384,
          -1.0544797958436887,
          0.5363552405640116,
          -0.01220856509381613,
          -0.024867729839766067,
          1.0764796030578732,
          -1.143093949065338,
          1.093358489385806,
          -0.20209603628306375,
          3.2285376098693512,
          1.4984517612562025,
          0.278952224063031,
          0.37178609886666314,
          0.24519445140716448,
          2.131409998553696,
          0.22831556507923123,
          -0.30336935425066325,
          3.1272642919017524,
          -0.0797241104055484,
          -0.016428286675799073,
          0.477279138416246,
          -0.24429325210289687,
          0.3127099967188975,
          0.2114366787512987,
          -0.3582257348164456,
          0.14814085502154903,
          0.2620733377350985,
          -0.3329074053245457,
          0.274732502481048,
          -0.45949905278404474,
          0.1987775140053488,
          0.13548169027559945,
          -0.003769121929849504,
          1.4056178864525704,
          0.008890042816100806,
          0.05952670179990019,
          -0.06706494565959846,
          -0.15567909888124767,
          1.2790262389930709,
          -0.05440578091364852,
          -0.3962032290542954,
          -0.45949905278404474,
          -0.15567909888124767,
          0.7726596491550763,
          1.1524345915335723,
          -0.23163408735694693,
          -0.24429325210289687,
          -0.30758907583264616,
          0.7979779786469758,
          -0.3962032290542954,
          0.6840454959334268,
          -0.7886373361787413,
          0.4435213657603794,
          -0.6114090297354432,
          0.8865921318686251,
          -0.5607723707516437,
          -0.49747654702189414,
          -0.6620456887192426,
          -0.49747654702189437,
          -0.40886239380024514,
          -0.7126823477030421,
          1.2326093015912545,
          0.7853188139010263,
          0.15236057660353233,
          -0.6747048534651926,
          0.49415802474417886,
          0.11438308236568252,
          0.6334088369496278,
          1.9795000216022973,
          0.35490721253873064,
          0.278952224063031,
          0.16501974134948227,
          -0.9278881483841901,
          -0.7759781714327916,
          0.12704224711163284,
          0.7768793707370594,
          1.283245960575054,
          -0.8645923246544407,
          0.5574538484739282,
          -0.9658656426220397,
          1.8275900446508988,
          0.8908118534506084,
          1.9288633626184983,
          1.1946318073534048,
          0.266293059317081,
          0.7979779786469758,
          0.586991899547811,
          -0.15145937729926473,
          -0.32868768374256274,
          -1.2696855965248364,
          0.6334088369496278,
          0.32958888304683076,
          0.3422480477927807,
          -0.07550438882356546,
          -0.404642672218262,
          -0.911009262056257,
          0.49415802474417847,
          0.2578536161531144,
          0.12282252552964952,
          0.32536916146484746,
          -0.3582257348164456,
          0.05952670179990019,
          0.2747325024810477,
          0.09750419603775001,
          -0.24429325210289687,
          -0.11770160464339821,
          1.1144570972957226,
          0.975206285090274,
          0.11016336078369994,
          -0.15567909888124767,
          0.1987775140053488,
          0.2114366787512987,
          0.1987775140053488,
          0.034208372308000314,
          1.2410487447552219,
          -0.43418072329214485,
          0.05952670179990019,
          -0.05440578091364852,
          2.055455010077996,
          1.1017979325497729,
          -0.15567909888124767,
          -0.33290740532454605,
          -0.04174661616769895,
          -0.09238327515149834,
          1.2790262389930709,
          1.1904120857714222,
          -0.1683382636271976,
          -0.3582257348164456,
          1.0764796030578732,
          2.042795845332047,
          -0.32024824057859613,
          0.582772177965828,
          -0.3455665700704956,
          -0.6493865239732929,
          -0.6240681944813932,
          -0.8139556656706411,
          -0.3455665700704956,
          0.7853188139010263,
          0.582772177965828,
          0.6587271664415273,
          -0.6114090297354432,
          -0.7380006771949419,
          0.4561805305063294,
          2.806565451671023,
          -0.7633190066868417,
          -0.8899106541463404,
          -0.7633190066868416,
          1.954181692110398,
          -0.6620456887192426,
          -0.6620456887192426,
          0.949887955598374,
          -0.227414365774964,
          -1.0038431368598892,
          -1.016502301605839,
          -0.03752689458571564,
          1.7263167266832993,
          0.37178609886666314,
          0.785318813901026,
          -1.029161466351789,
          -0.06284522407761552,
          -0.46793849594801135,
          0.6460680016955778,
          -1.1177756195734383,
          -1.0544797958436887,
          1.080699324639856,
          0.8570540807947415,
          0.41820303626847993,
          1.650361738207601,
          0.5068171894901291,
          0.7093638254253267,
          1.004744336164157,
          -0.35400601323446224,
          -1.3076630907626863,
          -0.733780955612959,
          -0.29071018950471333,
          -0.37932434272636234,
          2.3888130150546765,
          -0.01220856509381576
         ],
         "z": [
          -1.2508981950651694,
          -1.4707129412564146,
          -1.331200784231321,
          -1.0437775255995472,
          -1.4668382202041779,
          -1.4564264900711672,
          -1.5500693451348926,
          -1.5241755339833851,
          -1.3113109186933656,
          -1.4703942013000775,
          -1.4590155540556806,
          -1.5321196090995108,
          -1.3573271420720894,
          -1.4673233827453815,
          -1.2897676192149896,
          -1.4625939709608018,
          -1.4504750366779258,
          -1.5053050777771266,
          -1.4901508246376922,
          -1.4233719638090874,
          -1.5235625251959597,
          -1.5698466529632893,
          -1.528816149189692,
          -1.5295300244527579,
          -1.517954424883098,
          -1.534364988673129,
          -1.534733522872721,
          -1.5059239558479787,
          -1.5188074589628604,
          -1.4810846750628588,
          -1.5188252088119287,
          -1.5295675121339896,
          -1.5326937102177787,
          -1.529655362053646,
          -1.5241900651931566,
          -1.5304981248874139,
          -1.5341796329159252,
          -1.5170210194867537,
          -1.5215732641111646,
          -1.5375374310303591,
          -1.5315000210346956,
          -0.9103926014940904,
          -0.9007425988032371,
          -1.0261926337843306,
          -0.5533425019325169,
          -0.7945925692038504,
          -0.42789246695142324,
          -0.5050924884782503,
          0.14789102693615935,
          -0.7849425665129971,
          -0.9779426203300638,
          -0.3506924454245968,
          -0.7945925692038504,
          -0.8428425826581171,
          -0.7173925476770237,
          -0.7463425557495835,
          -0.5436924992416636,
          -0.8428425826581171,
          -0.36999245080630333,
          -0.3892924561880102,
          -0.36034244811544974,
          -0.43754246964227644,
          0.34089108075322616,
          -0.5822925100050766,
          -0.669142534222757,
          0.19614104039042596,
          -0.6401925261501968,
          0.4084410995891993,
          -0.5147424911691035,
          1.1193246311487295,
          -0.05475902957176072,
          -0.24454241582521002,
          -0.369992450806303,
          -0.1673423942983833,
          0.2829910646081059,
          -0.2541924185160633,
          -0.36034244811544974,
          0.10929101617274634,
          -0.04510902688090747,
          -0.22524241044350315,
          0.3312410780623729,
          -0.2541924185160633,
          0.6786411749330932,
          0.24439105384469256,
          -0.2541924185160633,
          0.6786411749330932,
          -0.0418923593172896,
          0.04174099733677286,
          -0.1866423996800898,
          0.22509104846298605,
          0.1382410242453061,
          -0.1866423996800898,
          0.20579104308127957,
          0.4952911238068796,
          -0.13839238622582284,
          0.7751412018416267,
          1.2351246634389692,
          1.2447746661298225,
          -0.0418923593172896,
          0.01600765682783062,
          1.273724674202383,
          0.9198912422044265,
          0.58214114802456,
          0.8523412233684534,
          0.3312410780623729,
          0.09964101348189273,
          0.18970770526319058,
          1.5535747522371293,
          0.8040912099141865,
          0.44704111035261296,
          0.4566911130434662,
          0.9295412448952802,
          2.122924910997477,
          1.3991747091834759,
          2.4574583376137262,
          0.3794910915166395,
          1.3316246903475024,
          2.1711749244517433,
          1.58252476030969,
          1.4667247280194493,
          0.4759911184251731,
          -0.43754246964227683,
          -0.6884425396044634,
          -1.064792644547744,
          -0.6691425342227568,
          -0.5919425126959302,
          -0.42789246695142324,
          -0.7656425611312906,
          -0.6498425288410503,
          -0.6401925261501968,
          -0.6305425234593436,
          0.16719103231786583,
          -0.5147424911691032,
          -0.045109026880907115,
          -0.3506924454245965,
          0.2154410457721328,
          -0.7752925638221438,
          -0.2734924238977698,
          -0.669142534222757,
          0.04174099733677286,
          -0.48579248309654344,
          -0.07405903495346758,
          -0.5629925046233701,
          -0.2734924238977698,
          -0.5533425019325169,
          -0.7173925476770237,
          0.4759911184251731,
          0.04174099733677286,
          0.09964101348189273,
          0.2154410457721328,
          -0.3989424588788635,
          0.1575410296270126,
          0.5338911345702934,
          -0.5147424911691035,
          -0.3024424319703299,
          0.19614104039042632,
          0.5724911453337067,
          -0.3506924454245965,
          -0.40859246156971674,
          -0.34104244273374323,
          -0.09014237277155622,
          0.4566911130434662,
          0.6014411534062665,
          -0.31209243466118347,
          -0.14804238891667643,
          0.41809110228005286,
          -0.1673423942983833,
          -0.12874238353496958,
          0.36984108882578626,
          0.4566911130434666,
          0.9070245719499558,
          1.4088247118743298,
          0.7268911883873601,
          0.360191086134933,
          0.044957664900390375,
          -0.10944237815326308,
          0.01600765682783062,
          0.016007656827830268,
          0.5435411372611462,
          1.4281247172560363,
          0.6689911722422399,
          0.025657659518683873,
          0.7461911937690666,
          0.044957664900390375,
          1.273724674202383,
          0.7172411856965065,
          0.7847912045324803,
          1.16114130947576,
          0.4856411211160267,
          0.1511076944997772,
          1.9588748652529702,
          1.3991747091834759,
          1.2351246634389699,
          0.8909412341318664,
          1.4281247172560363,
          2.650458391430793,
          1.2479913336934407,
          0.5242411318794397,
          1.296241347147707,
          0.8523412233684534,
          0.78479120453248,
          -0.9007425988032371,
          -0.7077425449861704,
          -1.1419926660745707,
          -0.8524925853489703,
          -0.9586426149483573,
          -0.6305425234593436,
          -0.48579248309654344,
          -0.8042425718947037,
          -0.8910925961123839,
          -0.669142534222757,
          -0.6305425234593436,
          -0.5276091614235746,
          -0.7849425665129971,
          -0.40859246156971674,
          -0.42789246695142324,
          -0.05475902957176107,
          -0.4954424857873967,
          -0.8428425826581171,
          -0.3892924561880102,
          -0.6980925422953169,
          0.6464744992969151,
          -0.2541924185160633,
          0.6657745046786216,
          -0.05475902957176107,
          -0.45684247502398334,
          0.2218743808993682,
          0.33124107806237324,
          -0.48579248309654344,
          -0.36999245080630333,
          0.7333245235145952,
          -0.006509016117494106,
          -0.20594240506179629,
          -0.5147424911691035,
          -0.2155924077526499,
          -0.09979237546240982,
          1.5793080927460716,
          0.0127909892642124,
          0.6593411695513867,
          -0.2541924185160633,
          0.18649103769957306,
          1.5535747522371293,
          1.5503580846735119,
          -0.36034244811544974,
          0.22509104846298605,
          0.4052244320255817,
          0.1575410296270126,
          1.1740079797302314,
          -0.03224235662643635,
          2.1454415839428016,
          -0.13839238622582284,
          0.6303911614788269,
          1.6661581169637516,
          -0.17699239698923655,
          1.0131746015493424,
          1.0421246096219021,
          0.09320767835465735,
          2.6279417184854683,
          -0.022592353935583096,
          2.0811082326704455,
          0.6882911776239464,
          0.6786411749330932,
          1.4281247172560363,
          0.08355767566380409,
          0.1221576864272171,
          1.350924695729209,
          1.81412482489017,
          1.2286913283117342,
          1.0163912691129604,
          1.1418413040940536,
          0.2154410457721328,
          0.18005770257233733,
          3.2744918987726432,
          2.5539583645222583,
          2.229074940596864,
          1.1900913175483205,
          1.3541413632928272,
          1.1418413040940536,
          1.1965246526755555,
          2.8402417776842412,
          2.2869749567419837
         ]
        },
        {
         "type": "scatter3d",
         "x": [
          -1.7150817459900882
         ],
         "y": [
          -1.8432015276535287
         ],
         "z": [
          -1.5698466529632893
         ]
        }
       ],
       "layout": {
        "scene": {
         "xaxis": {
          "title": {
           "text": "learning_rate"
          }
         },
         "yaxis": {
          "title": {
           "text": "dropout"
          }
         },
         "zaxis": {
          "title": {
           "text": "val_loss"
          }
         }
        },
        "template": {
         "data": {
          "bar": [
           {
            "error_x": {
             "color": "#2a3f5f"
            },
            "error_y": {
             "color": "#2a3f5f"
            },
            "marker": {
             "line": {
              "color": "#E5ECF6",
              "width": 0.5
             },
             "pattern": {
              "fillmode": "overlay",
              "size": 10,
              "solidity": 0.2
             }
            },
            "type": "bar"
           }
          ],
          "barpolar": [
           {
            "marker": {
             "line": {
              "color": "#E5ECF6",
              "width": 0.5
             },
             "pattern": {
              "fillmode": "overlay",
              "size": 10,
              "solidity": 0.2
             }
            },
            "type": "barpolar"
           }
          ],
          "carpet": [
           {
            "aaxis": {
             "endlinecolor": "#2a3f5f",
             "gridcolor": "white",
             "linecolor": "white",
             "minorgridcolor": "white",
             "startlinecolor": "#2a3f5f"
            },
            "baxis": {
             "endlinecolor": "#2a3f5f",
             "gridcolor": "white",
             "linecolor": "white",
             "minorgridcolor": "white",
             "startlinecolor": "#2a3f5f"
            },
            "type": "carpet"
           }
          ],
          "choropleth": [
           {
            "colorbar": {
             "outlinewidth": 0,
             "ticks": ""
            },
            "type": "choropleth"
           }
          ],
          "contour": [
           {
            "colorbar": {
             "outlinewidth": 0,
             "ticks": ""
            },
            "colorscale": [
             [
              0,
              "#0d0887"
             ],
             [
              0.1111111111111111,
              "#46039f"
             ],
             [
              0.2222222222222222,
              "#7201a8"
             ],
             [
              0.3333333333333333,
              "#9c179e"
             ],
             [
              0.4444444444444444,
              "#bd3786"
             ],
             [
              0.5555555555555556,
              "#d8576b"
             ],
             [
              0.6666666666666666,
              "#ed7953"
             ],
             [
              0.7777777777777778,
              "#fb9f3a"
             ],
             [
              0.8888888888888888,
              "#fdca26"
             ],
             [
              1,
              "#f0f921"
             ]
            ],
            "type": "contour"
           }
          ],
          "contourcarpet": [
           {
            "colorbar": {
             "outlinewidth": 0,
             "ticks": ""
            },
            "type": "contourcarpet"
           }
          ],
          "heatmap": [
           {
            "colorbar": {
             "outlinewidth": 0,
             "ticks": ""
            },
            "colorscale": [
             [
              0,
              "#0d0887"
             ],
             [
              0.1111111111111111,
              "#46039f"
             ],
             [
              0.2222222222222222,
              "#7201a8"
             ],
             [
              0.3333333333333333,
              "#9c179e"
             ],
             [
              0.4444444444444444,
              "#bd3786"
             ],
             [
              0.5555555555555556,
              "#d8576b"
             ],
             [
              0.6666666666666666,
              "#ed7953"
             ],
             [
              0.7777777777777778,
              "#fb9f3a"
             ],
             [
              0.8888888888888888,
              "#fdca26"
             ],
             [
              1,
              "#f0f921"
             ]
            ],
            "type": "heatmap"
           }
          ],
          "heatmapgl": [
           {
            "colorbar": {
             "outlinewidth": 0,
             "ticks": ""
            },
            "colorscale": [
             [
              0,
              "#0d0887"
             ],
             [
              0.1111111111111111,
              "#46039f"
             ],
             [
              0.2222222222222222,
              "#7201a8"
             ],
             [
              0.3333333333333333,
              "#9c179e"
             ],
             [
              0.4444444444444444,
              "#bd3786"
             ],
             [
              0.5555555555555556,
              "#d8576b"
             ],
             [
              0.6666666666666666,
              "#ed7953"
             ],
             [
              0.7777777777777778,
              "#fb9f3a"
             ],
             [
              0.8888888888888888,
              "#fdca26"
             ],
             [
              1,
              "#f0f921"
             ]
            ],
            "type": "heatmapgl"
           }
          ],
          "histogram": [
           {
            "marker": {
             "pattern": {
              "fillmode": "overlay",
              "size": 10,
              "solidity": 0.2
             }
            },
            "type": "histogram"
           }
          ],
          "histogram2d": [
           {
            "colorbar": {
             "outlinewidth": 0,
             "ticks": ""
            },
            "colorscale": [
             [
              0,
              "#0d0887"
             ],
             [
              0.1111111111111111,
              "#46039f"
             ],
             [
              0.2222222222222222,
              "#7201a8"
             ],
             [
              0.3333333333333333,
              "#9c179e"
             ],
             [
              0.4444444444444444,
              "#bd3786"
             ],
             [
              0.5555555555555556,
              "#d8576b"
             ],
             [
              0.6666666666666666,
              "#ed7953"
             ],
             [
              0.7777777777777778,
              "#fb9f3a"
             ],
             [
              0.8888888888888888,
              "#fdca26"
             ],
             [
              1,
              "#f0f921"
             ]
            ],
            "type": "histogram2d"
           }
          ],
          "histogram2dcontour": [
           {
            "colorbar": {
             "outlinewidth": 0,
             "ticks": ""
            },
            "colorscale": [
             [
              0,
              "#0d0887"
             ],
             [
              0.1111111111111111,
              "#46039f"
             ],
             [
              0.2222222222222222,
              "#7201a8"
             ],
             [
              0.3333333333333333,
              "#9c179e"
             ],
             [
              0.4444444444444444,
              "#bd3786"
             ],
             [
              0.5555555555555556,
              "#d8576b"
             ],
             [
              0.6666666666666666,
              "#ed7953"
             ],
             [
              0.7777777777777778,
              "#fb9f3a"
             ],
             [
              0.8888888888888888,
              "#fdca26"
             ],
             [
              1,
              "#f0f921"
             ]
            ],
            "type": "histogram2dcontour"
           }
          ],
          "mesh3d": [
           {
            "colorbar": {
             "outlinewidth": 0,
             "ticks": ""
            },
            "type": "mesh3d"
           }
          ],
          "parcoords": [
           {
            "line": {
             "colorbar": {
              "outlinewidth": 0,
              "ticks": ""
             }
            },
            "type": "parcoords"
           }
          ],
          "pie": [
           {
            "automargin": true,
            "type": "pie"
           }
          ],
          "scatter": [
           {
            "fillpattern": {
             "fillmode": "overlay",
             "size": 10,
             "solidity": 0.2
            },
            "type": "scatter"
           }
          ],
          "scatter3d": [
           {
            "line": {
             "colorbar": {
              "outlinewidth": 0,
              "ticks": ""
             }
            },
            "marker": {
             "colorbar": {
              "outlinewidth": 0,
              "ticks": ""
             }
            },
            "type": "scatter3d"
           }
          ],
          "scattercarpet": [
           {
            "marker": {
             "colorbar": {
              "outlinewidth": 0,
              "ticks": ""
             }
            },
            "type": "scattercarpet"
           }
          ],
          "scattergeo": [
           {
            "marker": {
             "colorbar": {
              "outlinewidth": 0,
              "ticks": ""
             }
            },
            "type": "scattergeo"
           }
          ],
          "scattergl": [
           {
            "marker": {
             "colorbar": {
              "outlinewidth": 0,
              "ticks": ""
             }
            },
            "type": "scattergl"
           }
          ],
          "scattermapbox": [
           {
            "marker": {
             "colorbar": {
              "outlinewidth": 0,
              "ticks": ""
             }
            },
            "type": "scattermapbox"
           }
          ],
          "scatterpolar": [
           {
            "marker": {
             "colorbar": {
              "outlinewidth": 0,
              "ticks": ""
             }
            },
            "type": "scatterpolar"
           }
          ],
          "scatterpolargl": [
           {
            "marker": {
             "colorbar": {
              "outlinewidth": 0,
              "ticks": ""
             }
            },
            "type": "scatterpolargl"
           }
          ],
          "scatterternary": [
           {
            "marker": {
             "colorbar": {
              "outlinewidth": 0,
              "ticks": ""
             }
            },
            "type": "scatterternary"
           }
          ],
          "surface": [
           {
            "colorbar": {
             "outlinewidth": 0,
             "ticks": ""
            },
            "colorscale": [
             [
              0,
              "#0d0887"
             ],
             [
              0.1111111111111111,
              "#46039f"
             ],
             [
              0.2222222222222222,
              "#7201a8"
             ],
             [
              0.3333333333333333,
              "#9c179e"
             ],
             [
              0.4444444444444444,
              "#bd3786"
             ],
             [
              0.5555555555555556,
              "#d8576b"
             ],
             [
              0.6666666666666666,
              "#ed7953"
             ],
             [
              0.7777777777777778,
              "#fb9f3a"
             ],
             [
              0.8888888888888888,
              "#fdca26"
             ],
             [
              1,
              "#f0f921"
             ]
            ],
            "type": "surface"
           }
          ],
          "table": [
           {
            "cells": {
             "fill": {
              "color": "#EBF0F8"
             },
             "line": {
              "color": "white"
             }
            },
            "header": {
             "fill": {
              "color": "#C8D4E3"
             },
             "line": {
              "color": "white"
             }
            },
            "type": "table"
           }
          ]
         },
         "layout": {
          "annotationdefaults": {
           "arrowcolor": "#2a3f5f",
           "arrowhead": 0,
           "arrowwidth": 1
          },
          "autotypenumbers": "strict",
          "coloraxis": {
           "colorbar": {
            "outlinewidth": 0,
            "ticks": ""
           }
          },
          "colorscale": {
           "diverging": [
            [
             0,
             "#8e0152"
            ],
            [
             0.1,
             "#c51b7d"
            ],
            [
             0.2,
             "#de77ae"
            ],
            [
             0.3,
             "#f1b6da"
            ],
            [
             0.4,
             "#fde0ef"
            ],
            [
             0.5,
             "#f7f7f7"
            ],
            [
             0.6,
             "#e6f5d0"
            ],
            [
             0.7,
             "#b8e186"
            ],
            [
             0.8,
             "#7fbc41"
            ],
            [
             0.9,
             "#4d9221"
            ],
            [
             1,
             "#276419"
            ]
           ],
           "sequential": [
            [
             0,
             "#0d0887"
            ],
            [
             0.1111111111111111,
             "#46039f"
            ],
            [
             0.2222222222222222,
             "#7201a8"
            ],
            [
             0.3333333333333333,
             "#9c179e"
            ],
            [
             0.4444444444444444,
             "#bd3786"
            ],
            [
             0.5555555555555556,
             "#d8576b"
            ],
            [
             0.6666666666666666,
             "#ed7953"
            ],
            [
             0.7777777777777778,
             "#fb9f3a"
            ],
            [
             0.8888888888888888,
             "#fdca26"
            ],
            [
             1,
             "#f0f921"
            ]
           ],
           "sequentialminus": [
            [
             0,
             "#0d0887"
            ],
            [
             0.1111111111111111,
             "#46039f"
            ],
            [
             0.2222222222222222,
             "#7201a8"
            ],
            [
             0.3333333333333333,
             "#9c179e"
            ],
            [
             0.4444444444444444,
             "#bd3786"
            ],
            [
             0.5555555555555556,
             "#d8576b"
            ],
            [
             0.6666666666666666,
             "#ed7953"
            ],
            [
             0.7777777777777778,
             "#fb9f3a"
            ],
            [
             0.8888888888888888,
             "#fdca26"
            ],
            [
             1,
             "#f0f921"
            ]
           ]
          },
          "colorway": [
           "#636efa",
           "#EF553B",
           "#00cc96",
           "#ab63fa",
           "#FFA15A",
           "#19d3f3",
           "#FF6692",
           "#B6E880",
           "#FF97FF",
           "#FECB52"
          ],
          "font": {
           "color": "#2a3f5f"
          },
          "geo": {
           "bgcolor": "white",
           "lakecolor": "white",
           "landcolor": "#E5ECF6",
           "showlakes": true,
           "showland": true,
           "subunitcolor": "white"
          },
          "hoverlabel": {
           "align": "left"
          },
          "hovermode": "closest",
          "mapbox": {
           "style": "light"
          },
          "paper_bgcolor": "white",
          "plot_bgcolor": "#E5ECF6",
          "polar": {
           "angularaxis": {
            "gridcolor": "white",
            "linecolor": "white",
            "ticks": ""
           },
           "bgcolor": "#E5ECF6",
           "radialaxis": {
            "gridcolor": "white",
            "linecolor": "white",
            "ticks": ""
           }
          },
          "scene": {
           "xaxis": {
            "backgroundcolor": "#E5ECF6",
            "gridcolor": "white",
            "gridwidth": 2,
            "linecolor": "white",
            "showbackground": true,
            "ticks": "",
            "zerolinecolor": "white"
           },
           "yaxis": {
            "backgroundcolor": "#E5ECF6",
            "gridcolor": "white",
            "gridwidth": 2,
            "linecolor": "white",
            "showbackground": true,
            "ticks": "",
            "zerolinecolor": "white"
           },
           "zaxis": {
            "backgroundcolor": "#E5ECF6",
            "gridcolor": "white",
            "gridwidth": 2,
            "linecolor": "white",
            "showbackground": true,
            "ticks": "",
            "zerolinecolor": "white"
           }
          },
          "shapedefaults": {
           "line": {
            "color": "#2a3f5f"
           }
          },
          "ternary": {
           "aaxis": {
            "gridcolor": "white",
            "linecolor": "white",
            "ticks": ""
           },
           "baxis": {
            "gridcolor": "white",
            "linecolor": "white",
            "ticks": ""
           },
           "bgcolor": "#E5ECF6",
           "caxis": {
            "gridcolor": "white",
            "linecolor": "white",
            "ticks": ""
           }
          },
          "title": {
           "x": 0.05
          },
          "xaxis": {
           "automargin": true,
           "gridcolor": "white",
           "linecolor": "white",
           "ticks": "",
           "title": {
            "standoff": 15
           },
           "zerolinecolor": "white",
           "zerolinewidth": 2
          },
          "yaxis": {
           "automargin": true,
           "gridcolor": "white",
           "linecolor": "white",
           "ticks": "",
           "title": {
            "standoff": 15
           },
           "zerolinecolor": "white",
           "zerolinewidth": 2
          }
         }
        }
       }
      }
     },
     "metadata": {},
     "output_type": "display_data"
    }
   ],
   "source": [
    "import plotly.express as px \n",
    "import plotly.graph_objects as go \n",
    "\n",
    "fig = go.Figure()\n",
    "fig.add_traces(\n",
    "    go.Mesh3d(\n",
    "        x=standard_df['learning_rate'], y=standard_df['dropout'], z=standard_df['val_loss'], \n",
    "        opacity=1,\n",
    "        intensity=standard_df['batch_size'], colorbar_title='batch_size',\n",
    "        colorscale='viridis'\n",
    "        )\n",
    "    )\n",
    "fig.add_traces(\n",
    "    go.Scatter3d(\n",
    "        x=min_df['learning_rate'], y=min_df['dropout'], z=min_df['val_loss']\n",
    "    )\n",
    ")\n",
    "fig.update_layout(\n",
    "    scene=dict(\n",
    "        xaxis_title='learning_rate',\n",
    "        yaxis_title='dropout',\n",
    "        zaxis_title='val_loss',\n",
    "    )\n",
    ")\n",
    "fig.show()"
   ]
  },
  {
   "cell_type": "code",
   "execution_count": 40,
   "metadata": {},
   "outputs": [
    {
     "data": {
      "application/vnd.plotly.v1+json": {
       "config": {
        "plotlyServerURL": "https://plot.ly"
       },
       "data": [
        {
         "hovertemplate": "x=%{x}<br>y=%{y}<extra></extra>",
         "legendgroup": "",
         "marker": {
          "color": "#636efa",
          "symbol": "circle"
         },
         "mode": "markers",
         "name": "",
         "orientation": "v",
         "showlegend": false,
         "type": "scatter",
         "x": [
          94,
          16,
          31,
          59,
          109,
          61,
          57,
          78,
          30,
          101,
          96,
          89,
          92,
          36,
          72,
          30,
          87,
          57,
          79,
          85,
          91,
          66,
          63,
          22,
          100,
          30,
          87,
          115,
          59,
          112,
          94,
          74,
          46,
          34,
          106,
          24,
          20,
          36,
          67,
          89,
          98,
          108,
          92,
          152,
          166,
          112,
          94,
          117,
          108,
          144,
          235,
          116,
          174,
          282,
          197,
          139,
          93,
          203,
          102,
          117,
          369,
          191,
          127,
          140,
          142,
          126,
          264,
          248,
          169,
          323,
          361,
          99,
          158,
          185,
          142,
          261,
          122,
          336,
          52,
          138,
          83,
          159,
          361,
          332,
          149,
          99,
          52,
          135,
          64,
          429,
          174,
          416,
          142,
          172,
          225,
          246,
          217,
          285,
          235,
          159,
          179,
          151,
          231,
          169,
          223,
          205,
          220,
          199,
          421,
          148,
          283,
          340,
          303,
          289,
          140,
          206,
          232,
          157,
          219,
          156,
          169,
          324,
          335,
          277,
          215,
          476,
          87,
          501,
          459,
          437,
          414,
          162,
          147,
          621,
          333,
          150,
          253,
          447,
          285,
          46,
          411,
          729,
          363,
          259,
          227,
          115,
          295,
          304,
          141,
          257,
          352,
          202,
          297,
          499,
          161,
          243,
          421,
          348,
          280,
          512,
          648,
          154,
          211,
          319,
          359,
          360,
          55,
          470,
          335,
          512,
          136,
          221,
          241,
          454,
          796,
          519,
          282,
          61,
          569,
          324,
          601,
          260,
          477,
          226,
          545,
          299,
          246,
          315,
          532,
          609,
          668,
          621,
          551,
          344,
          457,
          511,
          345,
          259,
          528,
          546,
          614,
          291,
          401,
          219,
          96,
          287,
          396,
          368,
          186,
          222,
          236,
          481,
          238,
          409,
          310,
          459,
          155,
          344,
          672,
          590,
          551,
          258,
          297,
          128,
          527,
          400,
          582,
          461,
          817,
          350,
          464,
          293,
          301,
          848,
          352,
          449,
          673,
          622,
          505,
          157,
          215,
          229,
          897,
          857,
          561,
          244,
          492,
          505,
          515,
          220,
          258,
          282,
          326,
          492,
          1073,
          493,
          270,
          705,
          218,
          433,
          764,
          308,
          278,
          230,
          578,
          370,
          579,
          295,
          400,
          195,
          693,
          424,
          116,
          396,
          563,
          396,
          966,
          523,
          403,
          608,
          507
         ],
         "xaxis": "x",
         "y": [
          0.0744666755199432,
          0.0571663789451122,
          0.0681465417146682,
          0.0907678976655006,
          0.0574713349342346,
          0.0582907795906066,
          0.0509207136929035,
          0.0529586598277092,
          0.0697119534015655,
          0.057191465049982,
          0.0580870099365711,
          0.0523334294557571,
          0.0660902932286262,
          0.0574331507086753,
          0.0714074969291687,
          0.0578053742647171,
          0.0587591826915741,
          0.0544438399374485,
          0.0556365400552749,
          0.0608923025429248,
          0.0530069060623645,
          0.0493641607463359,
          0.0525934249162673,
          0.0525372400879859,
          0.0534482859075069,
          0.0521567091345787,
          0.0521277040243148,
          0.0543951317667961,
          0.053381148725748,
          0.0563500821590423,
          0.0533797517418861,
          0.0525342896580696,
          0.0522882454097271,
          0.0525273755192756,
          0.0529575161635875,
          0.0524610467255115,
          0.0521712973713874,
          0.0535217486321926,
          0.053163468837738,
          0.0519070252776145,
          0.052382193505764,
          0.10126582278481014,
          0.10202531645569621,
          0.09215189873417723,
          0.12936708860759494,
          0.11037974683544305,
          0.13924050632911394,
          0.1331645569620253,
          0.18455696202531646,
          0.11113924050632912,
          0.0959493670886076,
          0.14531645569620252,
          0.11037974683544305,
          0.10658227848101266,
          0.11645569620253166,
          0.11417721518987343,
          0.130126582278481,
          0.10658227848101266,
          0.14379746835443039,
          0.14227848101265822,
          0.14455696202531648,
          0.13848101265822788,
          0.19974683544303798,
          0.12708860759493673,
          0.12025316455696203,
          0.18835443037974683,
          0.12253164556962026,
          0.2050632911392405,
          0.13240506329113924,
          0.26101265822784814,
          0.16860759493670888,
          0.15367088607594936,
          0.1437974683544304,
          0.15974683544303797,
          0.1951898734177215,
          0.1529113924050633,
          0.14455696202531648,
          0.1815189873417722,
          0.16936708860759495,
          0.15518987341772153,
          0.1989873417721519,
          0.1529113924050633,
          0.22632911392405064,
          0.1921518987341772,
          0.1529113924050633,
          0.22632911392405064,
          0.16962025316455698,
          0.17620253164556965,
          0.15822784810126583,
          0.19063291139240507,
          0.1837974683544304,
          0.15822784810126583,
          0.18911392405063293,
          0.2118987341772152,
          0.16202531645569623,
          0.2339240506329114,
          0.270126582278481,
          0.2708860759493671,
          0.16962025316455698,
          0.17417721518987345,
          0.27316455696202535,
          0.24531645569620253,
          0.2187341772151899,
          0.24000000000000002,
          0.1989873417721519,
          0.1807594936708861,
          0.1878481012658228,
          0.2951898734177215,
          0.23620253164556962,
          0.20810126582278482,
          0.2088607594936709,
          0.24607594936708863,
          0.34,
          0.2830379746835443,
          0.36632911392405065,
          0.20278481012658228,
          0.27772151898734176,
          0.34379746835443037,
          0.2974683544303798,
          0.28835443037974684,
          0.21037974683544305,
          0.13848101265822785,
          0.11873417721518989,
          0.08911392405063291,
          0.12025316455696204,
          0.12632911392405063,
          0.13924050632911394,
          0.11265822784810126,
          0.12177215189873418,
          0.12253164556962026,
          0.12329113924050633,
          0.1860759493670886,
          0.13240506329113927,
          0.16936708860759497,
          0.14531645569620255,
          0.189873417721519,
          0.11189873417721519,
          0.15139240506329116,
          0.12025316455696203,
          0.17620253164556965,
          0.13468354430379748,
          0.1670886075949367,
          0.12860759493670887,
          0.15139240506329116,
          0.12936708860759494,
          0.11645569620253166,
          0.21037974683544305,
          0.17620253164556965,
          0.1807594936708861,
          0.189873417721519,
          0.14151898734177215,
          0.18531645569620253,
          0.21493670886075952,
          0.13240506329113924,
          0.14911392405063292,
          0.18835443037974686,
          0.21797468354430383,
          0.14531645569620255,
          0.14075949367088608,
          0.14607594936708862,
          0.1658227848101266,
          0.2088607594936709,
          0.22025316455696203,
          0.14835443037974683,
          0.16126582278481014,
          0.20582278481012659,
          0.15974683544303797,
          0.1627848101265823,
          0.2020253164556962,
          0.20886075949367092,
          0.24430379746835446,
          0.2837974683544304,
          0.23012658227848104,
          0.20126582278481014,
          0.17645569620253165,
          0.16430379746835444,
          0.17417721518987345,
          0.17417721518987342,
          0.21569620253164556,
          0.28531645569620256,
          0.22556962025316457,
          0.17493670886075952,
          0.23164556962025318,
          0.17645569620253165,
          0.27316455696202535,
          0.22936708860759494,
          0.2346835443037975,
          0.2643037974683544,
          0.21113924050632915,
          0.1848101265822785,
          0.32708860759493674,
          0.2830379746835443,
          0.2701265822784811,
          0.2430379746835443,
          0.28531645569620256,
          0.3815189873417722,
          0.27113924050632915,
          0.21417721518987343,
          0.2749367088607595,
          0.24000000000000002,
          0.23468354430379748,
          0.10202531645569621,
          0.11721518987341772,
          0.0830379746835443,
          0.1058227848101266,
          0.09746835443037974,
          0.12329113924050633,
          0.13468354430379748,
          0.10962025316455697,
          0.10278481012658228,
          0.12025316455696203,
          0.12329113924050633,
          0.13139240506329114,
          0.11113924050632912,
          0.14075949367088608,
          0.13924050632911394,
          0.16860759493670885,
          0.1339240506329114,
          0.10658227848101266,
          0.14227848101265822,
          0.11797468354430381,
          0.22379746835443037,
          0.1529113924050633,
          0.2253164556962025,
          0.16860759493670885,
          0.1369620253164557,
          0.19037974683544304,
          0.19898734177215194,
          0.13468354430379748,
          0.14379746835443039,
          0.23063291139240505,
          0.17240506329113925,
          0.1567088607594937,
          0.13240506329113924,
          0.1559493670886076,
          0.1650632911392405,
          0.2972151898734177,
          0.1739240506329114,
          0.2248101265822785,
          0.1529113924050633,
          0.1875949367088608,
          0.2951898734177215,
          0.2949367088607595,
          0.14455696202531648,
          0.19063291139240507,
          0.20481012658227848,
          0.18531645569620253,
          0.26531645569620255,
          0.17037974683544305,
          0.3417721518987342,
          0.16202531645569623,
          0.2225316455696203,
          0.3040506329113924,
          0.1589873417721519,
          0.25265822784810127,
          0.2549367088607595,
          0.18025316455696205,
          0.379746835443038,
          0.17113924050632912,
          0.3367088607594937,
          0.2270886075949367,
          0.22632911392405064,
          0.28531645569620256,
          0.17949367088607598,
          0.18253164556962026,
          0.2792405063291139,
          0.3156962025316456,
          0.269620253164557,
          0.25291139240506333,
          0.2627848101265823,
          0.189873417721519,
          0.18708860759493673,
          0.4306329113924051,
          0.37392405063291134,
          0.3483544303797469,
          0.2665822784810127,
          0.27949367088607596,
          0.2627848101265823,
          0.2670886075949367,
          0.3964556962025316,
          0.3529113924050633
         ],
         "yaxis": "y"
        }
       ],
       "layout": {
        "legend": {
         "tracegroupgap": 0
        },
        "margin": {
         "t": 60
        },
        "template": {
         "data": {
          "bar": [
           {
            "error_x": {
             "color": "#2a3f5f"
            },
            "error_y": {
             "color": "#2a3f5f"
            },
            "marker": {
             "line": {
              "color": "#E5ECF6",
              "width": 0.5
             },
             "pattern": {
              "fillmode": "overlay",
              "size": 10,
              "solidity": 0.2
             }
            },
            "type": "bar"
           }
          ],
          "barpolar": [
           {
            "marker": {
             "line": {
              "color": "#E5ECF6",
              "width": 0.5
             },
             "pattern": {
              "fillmode": "overlay",
              "size": 10,
              "solidity": 0.2
             }
            },
            "type": "barpolar"
           }
          ],
          "carpet": [
           {
            "aaxis": {
             "endlinecolor": "#2a3f5f",
             "gridcolor": "white",
             "linecolor": "white",
             "minorgridcolor": "white",
             "startlinecolor": "#2a3f5f"
            },
            "baxis": {
             "endlinecolor": "#2a3f5f",
             "gridcolor": "white",
             "linecolor": "white",
             "minorgridcolor": "white",
             "startlinecolor": "#2a3f5f"
            },
            "type": "carpet"
           }
          ],
          "choropleth": [
           {
            "colorbar": {
             "outlinewidth": 0,
             "ticks": ""
            },
            "type": "choropleth"
           }
          ],
          "contour": [
           {
            "colorbar": {
             "outlinewidth": 0,
             "ticks": ""
            },
            "colorscale": [
             [
              0,
              "#0d0887"
             ],
             [
              0.1111111111111111,
              "#46039f"
             ],
             [
              0.2222222222222222,
              "#7201a8"
             ],
             [
              0.3333333333333333,
              "#9c179e"
             ],
             [
              0.4444444444444444,
              "#bd3786"
             ],
             [
              0.5555555555555556,
              "#d8576b"
             ],
             [
              0.6666666666666666,
              "#ed7953"
             ],
             [
              0.7777777777777778,
              "#fb9f3a"
             ],
             [
              0.8888888888888888,
              "#fdca26"
             ],
             [
              1,
              "#f0f921"
             ]
            ],
            "type": "contour"
           }
          ],
          "contourcarpet": [
           {
            "colorbar": {
             "outlinewidth": 0,
             "ticks": ""
            },
            "type": "contourcarpet"
           }
          ],
          "heatmap": [
           {
            "colorbar": {
             "outlinewidth": 0,
             "ticks": ""
            },
            "colorscale": [
             [
              0,
              "#0d0887"
             ],
             [
              0.1111111111111111,
              "#46039f"
             ],
             [
              0.2222222222222222,
              "#7201a8"
             ],
             [
              0.3333333333333333,
              "#9c179e"
             ],
             [
              0.4444444444444444,
              "#bd3786"
             ],
             [
              0.5555555555555556,
              "#d8576b"
             ],
             [
              0.6666666666666666,
              "#ed7953"
             ],
             [
              0.7777777777777778,
              "#fb9f3a"
             ],
             [
              0.8888888888888888,
              "#fdca26"
             ],
             [
              1,
              "#f0f921"
             ]
            ],
            "type": "heatmap"
           }
          ],
          "heatmapgl": [
           {
            "colorbar": {
             "outlinewidth": 0,
             "ticks": ""
            },
            "colorscale": [
             [
              0,
              "#0d0887"
             ],
             [
              0.1111111111111111,
              "#46039f"
             ],
             [
              0.2222222222222222,
              "#7201a8"
             ],
             [
              0.3333333333333333,
              "#9c179e"
             ],
             [
              0.4444444444444444,
              "#bd3786"
             ],
             [
              0.5555555555555556,
              "#d8576b"
             ],
             [
              0.6666666666666666,
              "#ed7953"
             ],
             [
              0.7777777777777778,
              "#fb9f3a"
             ],
             [
              0.8888888888888888,
              "#fdca26"
             ],
             [
              1,
              "#f0f921"
             ]
            ],
            "type": "heatmapgl"
           }
          ],
          "histogram": [
           {
            "marker": {
             "pattern": {
              "fillmode": "overlay",
              "size": 10,
              "solidity": 0.2
             }
            },
            "type": "histogram"
           }
          ],
          "histogram2d": [
           {
            "colorbar": {
             "outlinewidth": 0,
             "ticks": ""
            },
            "colorscale": [
             [
              0,
              "#0d0887"
             ],
             [
              0.1111111111111111,
              "#46039f"
             ],
             [
              0.2222222222222222,
              "#7201a8"
             ],
             [
              0.3333333333333333,
              "#9c179e"
             ],
             [
              0.4444444444444444,
              "#bd3786"
             ],
             [
              0.5555555555555556,
              "#d8576b"
             ],
             [
              0.6666666666666666,
              "#ed7953"
             ],
             [
              0.7777777777777778,
              "#fb9f3a"
             ],
             [
              0.8888888888888888,
              "#fdca26"
             ],
             [
              1,
              "#f0f921"
             ]
            ],
            "type": "histogram2d"
           }
          ],
          "histogram2dcontour": [
           {
            "colorbar": {
             "outlinewidth": 0,
             "ticks": ""
            },
            "colorscale": [
             [
              0,
              "#0d0887"
             ],
             [
              0.1111111111111111,
              "#46039f"
             ],
             [
              0.2222222222222222,
              "#7201a8"
             ],
             [
              0.3333333333333333,
              "#9c179e"
             ],
             [
              0.4444444444444444,
              "#bd3786"
             ],
             [
              0.5555555555555556,
              "#d8576b"
             ],
             [
              0.6666666666666666,
              "#ed7953"
             ],
             [
              0.7777777777777778,
              "#fb9f3a"
             ],
             [
              0.8888888888888888,
              "#fdca26"
             ],
             [
              1,
              "#f0f921"
             ]
            ],
            "type": "histogram2dcontour"
           }
          ],
          "mesh3d": [
           {
            "colorbar": {
             "outlinewidth": 0,
             "ticks": ""
            },
            "type": "mesh3d"
           }
          ],
          "parcoords": [
           {
            "line": {
             "colorbar": {
              "outlinewidth": 0,
              "ticks": ""
             }
            },
            "type": "parcoords"
           }
          ],
          "pie": [
           {
            "automargin": true,
            "type": "pie"
           }
          ],
          "scatter": [
           {
            "fillpattern": {
             "fillmode": "overlay",
             "size": 10,
             "solidity": 0.2
            },
            "type": "scatter"
           }
          ],
          "scatter3d": [
           {
            "line": {
             "colorbar": {
              "outlinewidth": 0,
              "ticks": ""
             }
            },
            "marker": {
             "colorbar": {
              "outlinewidth": 0,
              "ticks": ""
             }
            },
            "type": "scatter3d"
           }
          ],
          "scattercarpet": [
           {
            "marker": {
             "colorbar": {
              "outlinewidth": 0,
              "ticks": ""
             }
            },
            "type": "scattercarpet"
           }
          ],
          "scattergeo": [
           {
            "marker": {
             "colorbar": {
              "outlinewidth": 0,
              "ticks": ""
             }
            },
            "type": "scattergeo"
           }
          ],
          "scattergl": [
           {
            "marker": {
             "colorbar": {
              "outlinewidth": 0,
              "ticks": ""
             }
            },
            "type": "scattergl"
           }
          ],
          "scattermapbox": [
           {
            "marker": {
             "colorbar": {
              "outlinewidth": 0,
              "ticks": ""
             }
            },
            "type": "scattermapbox"
           }
          ],
          "scatterpolar": [
           {
            "marker": {
             "colorbar": {
              "outlinewidth": 0,
              "ticks": ""
             }
            },
            "type": "scatterpolar"
           }
          ],
          "scatterpolargl": [
           {
            "marker": {
             "colorbar": {
              "outlinewidth": 0,
              "ticks": ""
             }
            },
            "type": "scatterpolargl"
           }
          ],
          "scatterternary": [
           {
            "marker": {
             "colorbar": {
              "outlinewidth": 0,
              "ticks": ""
             }
            },
            "type": "scatterternary"
           }
          ],
          "surface": [
           {
            "colorbar": {
             "outlinewidth": 0,
             "ticks": ""
            },
            "colorscale": [
             [
              0,
              "#0d0887"
             ],
             [
              0.1111111111111111,
              "#46039f"
             ],
             [
              0.2222222222222222,
              "#7201a8"
             ],
             [
              0.3333333333333333,
              "#9c179e"
             ],
             [
              0.4444444444444444,
              "#bd3786"
             ],
             [
              0.5555555555555556,
              "#d8576b"
             ],
             [
              0.6666666666666666,
              "#ed7953"
             ],
             [
              0.7777777777777778,
              "#fb9f3a"
             ],
             [
              0.8888888888888888,
              "#fdca26"
             ],
             [
              1,
              "#f0f921"
             ]
            ],
            "type": "surface"
           }
          ],
          "table": [
           {
            "cells": {
             "fill": {
              "color": "#EBF0F8"
             },
             "line": {
              "color": "white"
             }
            },
            "header": {
             "fill": {
              "color": "#C8D4E3"
             },
             "line": {
              "color": "white"
             }
            },
            "type": "table"
           }
          ]
         },
         "layout": {
          "annotationdefaults": {
           "arrowcolor": "#2a3f5f",
           "arrowhead": 0,
           "arrowwidth": 1
          },
          "autotypenumbers": "strict",
          "coloraxis": {
           "colorbar": {
            "outlinewidth": 0,
            "ticks": ""
           }
          },
          "colorscale": {
           "diverging": [
            [
             0,
             "#8e0152"
            ],
            [
             0.1,
             "#c51b7d"
            ],
            [
             0.2,
             "#de77ae"
            ],
            [
             0.3,
             "#f1b6da"
            ],
            [
             0.4,
             "#fde0ef"
            ],
            [
             0.5,
             "#f7f7f7"
            ],
            [
             0.6,
             "#e6f5d0"
            ],
            [
             0.7,
             "#b8e186"
            ],
            [
             0.8,
             "#7fbc41"
            ],
            [
             0.9,
             "#4d9221"
            ],
            [
             1,
             "#276419"
            ]
           ],
           "sequential": [
            [
             0,
             "#0d0887"
            ],
            [
             0.1111111111111111,
             "#46039f"
            ],
            [
             0.2222222222222222,
             "#7201a8"
            ],
            [
             0.3333333333333333,
             "#9c179e"
            ],
            [
             0.4444444444444444,
             "#bd3786"
            ],
            [
             0.5555555555555556,
             "#d8576b"
            ],
            [
             0.6666666666666666,
             "#ed7953"
            ],
            [
             0.7777777777777778,
             "#fb9f3a"
            ],
            [
             0.8888888888888888,
             "#fdca26"
            ],
            [
             1,
             "#f0f921"
            ]
           ],
           "sequentialminus": [
            [
             0,
             "#0d0887"
            ],
            [
             0.1111111111111111,
             "#46039f"
            ],
            [
             0.2222222222222222,
             "#7201a8"
            ],
            [
             0.3333333333333333,
             "#9c179e"
            ],
            [
             0.4444444444444444,
             "#bd3786"
            ],
            [
             0.5555555555555556,
             "#d8576b"
            ],
            [
             0.6666666666666666,
             "#ed7953"
            ],
            [
             0.7777777777777778,
             "#fb9f3a"
            ],
            [
             0.8888888888888888,
             "#fdca26"
            ],
            [
             1,
             "#f0f921"
            ]
           ]
          },
          "colorway": [
           "#636efa",
           "#EF553B",
           "#00cc96",
           "#ab63fa",
           "#FFA15A",
           "#19d3f3",
           "#FF6692",
           "#B6E880",
           "#FF97FF",
           "#FECB52"
          ],
          "font": {
           "color": "#2a3f5f"
          },
          "geo": {
           "bgcolor": "white",
           "lakecolor": "white",
           "landcolor": "#E5ECF6",
           "showlakes": true,
           "showland": true,
           "subunitcolor": "white"
          },
          "hoverlabel": {
           "align": "left"
          },
          "hovermode": "closest",
          "mapbox": {
           "style": "light"
          },
          "paper_bgcolor": "white",
          "plot_bgcolor": "#E5ECF6",
          "polar": {
           "angularaxis": {
            "gridcolor": "white",
            "linecolor": "white",
            "ticks": ""
           },
           "bgcolor": "#E5ECF6",
           "radialaxis": {
            "gridcolor": "white",
            "linecolor": "white",
            "ticks": ""
           }
          },
          "scene": {
           "xaxis": {
            "backgroundcolor": "#E5ECF6",
            "gridcolor": "white",
            "gridwidth": 2,
            "linecolor": "white",
            "showbackground": true,
            "ticks": "",
            "zerolinecolor": "white"
           },
           "yaxis": {
            "backgroundcolor": "#E5ECF6",
            "gridcolor": "white",
            "gridwidth": 2,
            "linecolor": "white",
            "showbackground": true,
            "ticks": "",
            "zerolinecolor": "white"
           },
           "zaxis": {
            "backgroundcolor": "#E5ECF6",
            "gridcolor": "white",
            "gridwidth": 2,
            "linecolor": "white",
            "showbackground": true,
            "ticks": "",
            "zerolinecolor": "white"
           }
          },
          "shapedefaults": {
           "line": {
            "color": "#2a3f5f"
           }
          },
          "ternary": {
           "aaxis": {
            "gridcolor": "white",
            "linecolor": "white",
            "ticks": ""
           },
           "baxis": {
            "gridcolor": "white",
            "linecolor": "white",
            "ticks": ""
           },
           "bgcolor": "#E5ECF6",
           "caxis": {
            "gridcolor": "white",
            "linecolor": "white",
            "ticks": ""
           }
          },
          "title": {
           "x": 0.05
          },
          "xaxis": {
           "automargin": true,
           "gridcolor": "white",
           "linecolor": "white",
           "ticks": "",
           "title": {
            "standoff": 15
           },
           "zerolinecolor": "white",
           "zerolinewidth": 2
          },
          "yaxis": {
           "automargin": true,
           "gridcolor": "white",
           "linecolor": "white",
           "ticks": "",
           "title": {
            "standoff": 15
           },
           "zerolinecolor": "white",
           "zerolinewidth": 2
          }
         }
        },
        "xaxis": {
         "anchor": "y",
         "domain": [
          0,
          1
         ],
         "title": {
          "text": "x"
         }
        },
        "yaxis": {
         "anchor": "x",
         "domain": [
          0,
          1
         ],
         "title": {
          "text": "y"
         }
        }
       }
      }
     },
     "metadata": {},
     "output_type": "display_data"
    }
   ],
   "source": [
    "fig = px.scatter(standard_df, x=df['batch_size'], y=df['val_loss'])\n",
    "# fig.update_layout(yaxis_range=[0.05, 0.07])\n",
    "fig.show()"
   ]
  },
  {
   "cell_type": "code",
   "execution_count": 37,
   "metadata": {},
   "outputs": [
    {
     "name": "stdout",
     "output_type": "stream",
     "text": [
      "0.6105698585135683\n"
     ]
    }
   ],
   "source": [
    "from sklearn.linear_model import LinearRegression\n",
    "\n",
    "x = standard_df[['learning_rate', 'dropout', 'batch_size']]\n",
    "y = standard_df['val_loss']\n",
    "regr = LinearRegression()\n",
    "regr.fit(x,y)\n",
    "print(regr.score(x,y))"
   ]
  },
  {
   "cell_type": "code",
   "execution_count": 38,
   "metadata": {},
   "outputs": [
    {
     "name": "stdout",
     "output_type": "stream",
     "text": [
      "                            OLS Regression Results                            \n",
      "==============================================================================\n",
      "Dep. Variable:               val_loss   R-squared:                       0.611\n",
      "Model:                            OLS   Adj. R-squared:                  0.606\n",
      "Method:                 Least Squares   F-statistic:                     144.8\n",
      "Date:                Wed, 18 Jan 2023   Prob (F-statistic):           1.96e-56\n",
      "Time:                        10:25:32   Log-Likelihood:                -266.22\n",
      "No. Observations:                 281   AIC:                             540.4\n",
      "Df Residuals:                     277   BIC:                             555.0\n",
      "Df Model:                           3                                         \n",
      "Covariance Type:            nonrobust                                         \n",
      "=================================================================================\n",
      "                    coef    std err          t      P>|t|      [0.025      0.975]\n",
      "---------------------------------------------------------------------------------\n",
      "const         -3.239e-17      0.037  -8.64e-16      1.000      -0.074       0.074\n",
      "learning_rate     0.6451      0.043     15.055      0.000       0.561       0.729\n",
      "dropout           0.1671      0.040      4.225      0.000       0.089       0.245\n",
      "batch_size        0.1344      0.041      3.250      0.001       0.053       0.216\n",
      "==============================================================================\n",
      "Omnibus:                       46.925   Durbin-Watson:                   1.881\n",
      "Prob(Omnibus):                  0.000   Jarque-Bera (JB):               88.970\n",
      "Skew:                           0.885   Prob(JB):                     4.79e-20\n",
      "Kurtosis:                       5.114   Cond. No.                         1.71\n",
      "==============================================================================\n",
      "\n",
      "Notes:\n",
      "[1] Standard Errors assume that the covariance matrix of the errors is correctly specified.\n"
     ]
    }
   ],
   "source": [
    "import statsmodels.api as sm \n",
    "\n",
    "x = sm.add_constant(x)\n",
    "regr = sm.OLS(y,x).fit()\n",
    "print(regr.summary())"
   ]
  },
  {
   "cell_type": "code",
   "execution_count": null,
   "metadata": {},
   "outputs": [],
   "source": []
  }
 ],
 "metadata": {
  "kernelspec": {
   "display_name": "venv_cnn",
   "language": "python",
   "name": "python3"
  },
  "language_info": {
   "codemirror_mode": {
    "name": "ipython",
    "version": 3
   },
   "file_extension": ".py",
   "mimetype": "text/x-python",
   "name": "python",
   "nbconvert_exporter": "python",
   "pygments_lexer": "ipython3",
   "version": "3.8.3"
  },
  "orig_nbformat": 4,
  "vscode": {
   "interpreter": {
    "hash": "d4c749f7bdb0f444177ba46f7226c1f18447eea57a10fa878655d732524bf2a6"
   }
  }
 },
 "nbformat": 4,
 "nbformat_minor": 2
}
