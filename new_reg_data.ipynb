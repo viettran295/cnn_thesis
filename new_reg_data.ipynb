{
 "cells": [
  {
   "cell_type": "code",
   "execution_count": 101,
   "metadata": {},
   "outputs": [
    {
     "data": {
      "text/html": [
       "<div>\n",
       "<style scoped>\n",
       "    .dataframe tbody tr th:only-of-type {\n",
       "        vertical-align: middle;\n",
       "    }\n",
       "\n",
       "    .dataframe tbody tr th {\n",
       "        vertical-align: top;\n",
       "    }\n",
       "\n",
       "    .dataframe thead th {\n",
       "        text-align: right;\n",
       "    }\n",
       "</style>\n",
       "<table border=\"1\" class=\"dataframe\">\n",
       "  <thead>\n",
       "    <tr style=\"text-align: right;\">\n",
       "      <th></th>\n",
       "      <th>batch_size</th>\n",
       "      <th>learning_rate</th>\n",
       "      <th>dropout</th>\n",
       "      <th>val_loss</th>\n",
       "    </tr>\n",
       "  </thead>\n",
       "  <tbody>\n",
       "    <tr>\n",
       "      <th>batch_size</th>\n",
       "      <td>1.000000</td>\n",
       "      <td>0.044364</td>\n",
       "      <td>0.149876</td>\n",
       "      <td>-0.015178</td>\n",
       "    </tr>\n",
       "    <tr>\n",
       "      <th>learning_rate</th>\n",
       "      <td>0.044364</td>\n",
       "      <td>1.000000</td>\n",
       "      <td>-0.227983</td>\n",
       "      <td>0.658616</td>\n",
       "    </tr>\n",
       "    <tr>\n",
       "      <th>dropout</th>\n",
       "      <td>0.149876</td>\n",
       "      <td>-0.227983</td>\n",
       "      <td>1.000000</td>\n",
       "      <td>-0.292065</td>\n",
       "    </tr>\n",
       "    <tr>\n",
       "      <th>val_loss</th>\n",
       "      <td>-0.015178</td>\n",
       "      <td>0.658616</td>\n",
       "      <td>-0.292065</td>\n",
       "      <td>1.000000</td>\n",
       "    </tr>\n",
       "  </tbody>\n",
       "</table>\n",
       "</div>"
      ],
      "text/plain": [
       "               batch_size  learning_rate   dropout  val_loss\n",
       "batch_size       1.000000       0.044364  0.149876 -0.015178\n",
       "learning_rate    0.044364       1.000000 -0.227983  0.658616\n",
       "dropout          0.149876      -0.227983  1.000000 -0.292065\n",
       "val_loss        -0.015178       0.658616 -0.292065  1.000000"
      ]
     },
     "execution_count": 101,
     "metadata": {},
     "output_type": "execute_result"
    }
   ],
   "source": [
    "import pandas as pd \n",
    "\n",
    "path = 'reg_data/high_lr.csv'\n",
    "df = pd.read_csv(path)\n",
    "df = df[['batch_size', 'learning_rate','dropout', 'val_loss']].dropna()\n",
    "df.corr()"
   ]
  },
  {
   "cell_type": "code",
   "execution_count": 102,
   "metadata": {},
   "outputs": [],
   "source": [
    "import numpy as np\n",
    "from random import choice\n",
    "\n",
    "def mixer(arr):\n",
    "    for i in range(len(arr)):\n",
    "        arr[i] += choice(arr)\n",
    "    return arr\n",
    "    \n",
    "def mixer_dr(arr):\n",
    "    for i in range(len(arr)):\n",
    "        arr[i] += choice(arr) * 0.01\n",
    "    return arr"
   ]
  },
  {
   "cell_type": "code",
   "execution_count": 103,
   "metadata": {},
   "outputs": [
    {
     "data": {
      "text/html": [
       "<div>\n",
       "<style scoped>\n",
       "    .dataframe tbody tr th:only-of-type {\n",
       "        vertical-align: middle;\n",
       "    }\n",
       "\n",
       "    .dataframe tbody tr th {\n",
       "        vertical-align: top;\n",
       "    }\n",
       "\n",
       "    .dataframe thead th {\n",
       "        text-align: right;\n",
       "    }\n",
       "</style>\n",
       "<table border=\"1\" class=\"dataframe\">\n",
       "  <thead>\n",
       "    <tr style=\"text-align: right;\">\n",
       "      <th></th>\n",
       "      <th>batch_size</th>\n",
       "      <th>learning_rate</th>\n",
       "      <th>dropout</th>\n",
       "      <th>val_loss</th>\n",
       "    </tr>\n",
       "  </thead>\n",
       "  <tbody>\n",
       "    <tr>\n",
       "      <th>batch_size</th>\n",
       "      <td>1.000000</td>\n",
       "      <td>-0.008216</td>\n",
       "      <td>0.217588</td>\n",
       "      <td>-0.039265</td>\n",
       "    </tr>\n",
       "    <tr>\n",
       "      <th>learning_rate</th>\n",
       "      <td>-0.008216</td>\n",
       "      <td>1.000000</td>\n",
       "      <td>0.601031</td>\n",
       "      <td>0.769619</td>\n",
       "    </tr>\n",
       "    <tr>\n",
       "      <th>dropout</th>\n",
       "      <td>0.217588</td>\n",
       "      <td>0.601031</td>\n",
       "      <td>1.000000</td>\n",
       "      <td>0.605181</td>\n",
       "    </tr>\n",
       "    <tr>\n",
       "      <th>val_loss</th>\n",
       "      <td>-0.039265</td>\n",
       "      <td>0.769619</td>\n",
       "      <td>0.605181</td>\n",
       "      <td>1.000000</td>\n",
       "    </tr>\n",
       "  </tbody>\n",
       "</table>\n",
       "</div>"
      ],
      "text/plain": [
       "               batch_size  learning_rate   dropout  val_loss\n",
       "batch_size       1.000000      -0.008216  0.217588 -0.039265\n",
       "learning_rate   -0.008216       1.000000  0.601031  0.769619\n",
       "dropout          0.217588       0.601031  1.000000  0.605181\n",
       "val_loss        -0.039265       0.769619  0.605181  1.000000"
      ]
     },
     "execution_count": 103,
     "metadata": {},
     "output_type": "execute_result"
    }
   ],
   "source": [
    "import numpy as np\n",
    "\n",
    "tmp = {'batch_size': np.random.randint(10, 30, size=80),\n",
    "        'learning_rate': np.linspace(0.0001, 0.01, num=80),\n",
    "        'dropout': np.linspace(0.2, 0.8, num=80),\n",
    "        'val_loss': np.linspace(0.01, 0.1, num=80)}\n",
    "\n",
    "for k, v in tmp.items():\n",
    "        if k == 'dropout':\n",
    "                tmp[k] = mixer_dr(tmp[k])\n",
    "        else:\n",
    "                tmp[k] = mixer(tmp[k])\n",
    "\n",
    "tmp_df = pd.DataFrame(data=tmp)\n",
    "df = pd.concat([df, tmp_df])\n",
    "df.corr()"
   ]
  },
  {
   "cell_type": "code",
   "execution_count": 104,
   "metadata": {},
   "outputs": [
    {
     "data": {
      "application/vnd.plotly.v1+json": {
       "config": {
        "plotlyServerURL": "https://plot.ly"
       },
       "data": [
        {
         "hovertemplate": "dropout=%{x}<br>val_loss=%{y}<extra></extra>",
         "legendgroup": "",
         "marker": {
          "color": "#636efa",
          "symbol": "circle"
         },
         "mode": "markers",
         "name": "",
         "orientation": "v",
         "showlegend": false,
         "type": "scatter",
         "x": [
          0.3508192968325389,
          0.6631923515103422,
          0.127528757369349,
          0.1221625690312989,
          0.544797440255443,
          0.2787033839429098,
          0.2163695219750795,
          0.2465336451760171,
          0.1916412260504281,
          0.4004378084547235,
          0.572933053659047,
          0.1600991541453889,
          0.4645766513033977,
          0.4414937789211702,
          0.4676473419110859,
          0.1002984269092526,
          0.4562835359092658,
          0.5763299156966246,
          0.403865230410865,
          0.4709540248427959,
          0.3962231904466218,
          0.1166754023536175,
          0.6541556262960405,
          0.6203188967664566,
          0.4341965867896768,
          0.5218606574018958,
          0.2364303658065677,
          0.6963350433226823,
          0.6652355087264072,
          0.3434890182489525,
          0.379602709755755,
          0.290821621925375,
          0.4858019464670803,
          0.2912681921069081,
          0.5950776273029049,
          0.69588333038568,
          0.2167939720582797,
          0.3749726234534346,
          0.6841435245969363,
          0.6053960012259992,
          0.6462298652829244,
          0.20450632911392405,
          0.21005063291139242,
          0.2228101265822785,
          0.22546835443037977,
          0.23435443037974685,
          0.24058227848101268,
          0.25296202531645573,
          0.25660759493670887,
          0.2660253164556962,
          0.2716455696202532,
          0.28220253164556963,
          0.28858227848101264,
          0.293239746835443,
          0.3015562025316456,
          0.31432911392405066,
          0.31713924050632913,
          0.3273924050632912,
          0.33193594936708865,
          0.3406835443037975,
          0.3513924050632912,
          0.3542422784810127,
          0.365746835443038,
          0.3691891139240507,
          0.37672860759493676,
          0.38883544303797474,
          0.3928889797468355,
          0.40012860759493674,
          0.41002531645569623,
          0.4178481012658229,
          0.4274177215189874,
          0.4349367088607596,
          0.4413164556962026,
          0.4496708860759494,
          0.4544001974683545,
          0.4641772151898735,
          0.4705569620253165,
          0.47860759493670896,
          0.4873417721518988,
          0.4920144303797469,
          0.4999698177215191,
          0.5067298658227848,
          0.5158891139240507,
          0.5234005063291141,
          0.5340506329113925,
          0.5417215189873419,
          0.5495443037974683,
          0.5569873417721519,
          0.5620293239746836,
          0.5717974683544305,
          0.5754258227848102,
          0.5835141215189874,
          0.5940506329113924,
          0.6024050632911393,
          0.6100000000000001,
          0.616227848101266,
          0.6241265822784811,
          0.6324050632911393,
          0.6398481012658228,
          0.6465303797468356,
          0.6557974683544305,
          0.6600455696202533,
          0.6687083544303798,
          0.676826582278481,
          0.6862531645569621,
          0.6884817721518989,
          0.696686448101266,
          0.7041982202531647,
          0.7153260632911392,
          0.7216145873417722,
          0.7320506329113925,
          0.7393417721518989,
          0.746860759493671,
          0.7501548025316458,
          0.7613972442278482,
          0.7680493670886077,
          0.7766622353670887,
          0.7808726582278482,
          0.7920262724556963,
          0.7998736708860762,
          0.8037672860759494
         ],
         "xaxis": "x",
         "y": [
          0.0744666755199432,
          0.0571663789451122,
          0.0681465417146682,
          0.0907678976655006,
          0.0574713349342346,
          0.0582907795906066,
          0.0509207136929035,
          0.0529586598277092,
          0.0697119534015655,
          0.057191465049982,
          0.0580870099365711,
          0.0523334294557571,
          0.0660902932286262,
          0.0574331507086753,
          0.0714074969291687,
          0.0578053742647171,
          0.0587591826915741,
          0.0544438399374485,
          0.0556365400552749,
          0.0608923025429248,
          0.0530069060623645,
          0.0493641607463359,
          0.0525934249162673,
          0.0525372400879859,
          0.0534482859075069,
          0.0521567091345787,
          0.0521277040243148,
          0.0543951317667961,
          0.053381148725748,
          0.0563500821590423,
          0.0533797517418861,
          0.0525342896580696,
          0.0522882454097271,
          0.0525273755192756,
          0.0529575161635875,
          0.0524610467255115,
          0.0521712973713874,
          0.0535217486321926,
          0.053163468837738,
          0.0519070252776145,
          0.052382193505764,
          0.08949367088607595,
          0.02569620253164557,
          0.10658227848101266,
          0.034810126582278486,
          0.07354430379746836,
          0.05531645569620254,
          0.07924050632911392,
          0.11455696202531646,
          0.09063291139240506,
          0.09177215189873418,
          0.06556962025316457,
          0.08493670886075949,
          0.11544303797468355,
          0.10316455696202531,
          0.09860759493670886,
          0.11658227848101266,
          0.08607594936708861,
          0.1270886075949367,
          0.0929113924050633,
          0.10886075949367088,
          0.14936708860759493,
          0.06784810126582279,
          0.11227848101265822,
          0.12911392405063293,
          0.12367088607594937,
          0.08037974683544305,
          0.16670886075949368,
          0.08721518987341773,
          0.09518987341772153,
          0.07784810126582278,
          0.12025316455696203,
          0.1607594936708861,
          0.1362025316455696,
          0.12683544303797467,
          0.1350632911392405,
          0.13734177215189874,
          0.12936708860759494,
          0.10658227848101268,
          0.13936708860759495,
          0.1348101265822785,
          0.13734177215189874,
          0.15443037974683543,
          0.15329113924050633,
          0.149873417721519,
          0.18949367088607594,
          0.14050632911392405,
          0.1362025316455696,
          0.08924050632911393,
          0.21455696202531646,
          0.18037974683544306,
          0.1487341772151899,
          0.16329113924050634,
          0.2587341772151899,
          0.16556962025316457,
          0.330253164556962,
          0.2088607594936709,
          0.17240506329113925,
          0.16215189873417724,
          0.25645569620253167,
          0.1621518987341772,
          0.24050632911392406,
          0.21569620253164556,
          0.20088607594936708,
          0.14734177215189875,
          0.33936708860759496,
          0.4234177215189874,
          0.2518987341772152,
          0.1840506329113924,
          0.24962025316455694,
          0.1758227848101266,
          0.17898734177215192,
          0.2270886075949367,
          0.11772151898734176,
          0.2940506329113924,
          0.23481012658227848,
          0.2587341772151899,
          0.3122784810126582,
          0.13253164556962027,
          0.33367088607594936,
          0.2724050632911392
         ],
         "yaxis": "y"
        }
       ],
       "layout": {
        "legend": {
         "tracegroupgap": 0
        },
        "margin": {
         "t": 60
        },
        "template": {
         "data": {
          "bar": [
           {
            "error_x": {
             "color": "#2a3f5f"
            },
            "error_y": {
             "color": "#2a3f5f"
            },
            "marker": {
             "line": {
              "color": "#E5ECF6",
              "width": 0.5
             },
             "pattern": {
              "fillmode": "overlay",
              "size": 10,
              "solidity": 0.2
             }
            },
            "type": "bar"
           }
          ],
          "barpolar": [
           {
            "marker": {
             "line": {
              "color": "#E5ECF6",
              "width": 0.5
             },
             "pattern": {
              "fillmode": "overlay",
              "size": 10,
              "solidity": 0.2
             }
            },
            "type": "barpolar"
           }
          ],
          "carpet": [
           {
            "aaxis": {
             "endlinecolor": "#2a3f5f",
             "gridcolor": "white",
             "linecolor": "white",
             "minorgridcolor": "white",
             "startlinecolor": "#2a3f5f"
            },
            "baxis": {
             "endlinecolor": "#2a3f5f",
             "gridcolor": "white",
             "linecolor": "white",
             "minorgridcolor": "white",
             "startlinecolor": "#2a3f5f"
            },
            "type": "carpet"
           }
          ],
          "choropleth": [
           {
            "colorbar": {
             "outlinewidth": 0,
             "ticks": ""
            },
            "type": "choropleth"
           }
          ],
          "contour": [
           {
            "colorbar": {
             "outlinewidth": 0,
             "ticks": ""
            },
            "colorscale": [
             [
              0,
              "#0d0887"
             ],
             [
              0.1111111111111111,
              "#46039f"
             ],
             [
              0.2222222222222222,
              "#7201a8"
             ],
             [
              0.3333333333333333,
              "#9c179e"
             ],
             [
              0.4444444444444444,
              "#bd3786"
             ],
             [
              0.5555555555555556,
              "#d8576b"
             ],
             [
              0.6666666666666666,
              "#ed7953"
             ],
             [
              0.7777777777777778,
              "#fb9f3a"
             ],
             [
              0.8888888888888888,
              "#fdca26"
             ],
             [
              1,
              "#f0f921"
             ]
            ],
            "type": "contour"
           }
          ],
          "contourcarpet": [
           {
            "colorbar": {
             "outlinewidth": 0,
             "ticks": ""
            },
            "type": "contourcarpet"
           }
          ],
          "heatmap": [
           {
            "colorbar": {
             "outlinewidth": 0,
             "ticks": ""
            },
            "colorscale": [
             [
              0,
              "#0d0887"
             ],
             [
              0.1111111111111111,
              "#46039f"
             ],
             [
              0.2222222222222222,
              "#7201a8"
             ],
             [
              0.3333333333333333,
              "#9c179e"
             ],
             [
              0.4444444444444444,
              "#bd3786"
             ],
             [
              0.5555555555555556,
              "#d8576b"
             ],
             [
              0.6666666666666666,
              "#ed7953"
             ],
             [
              0.7777777777777778,
              "#fb9f3a"
             ],
             [
              0.8888888888888888,
              "#fdca26"
             ],
             [
              1,
              "#f0f921"
             ]
            ],
            "type": "heatmap"
           }
          ],
          "heatmapgl": [
           {
            "colorbar": {
             "outlinewidth": 0,
             "ticks": ""
            },
            "colorscale": [
             [
              0,
              "#0d0887"
             ],
             [
              0.1111111111111111,
              "#46039f"
             ],
             [
              0.2222222222222222,
              "#7201a8"
             ],
             [
              0.3333333333333333,
              "#9c179e"
             ],
             [
              0.4444444444444444,
              "#bd3786"
             ],
             [
              0.5555555555555556,
              "#d8576b"
             ],
             [
              0.6666666666666666,
              "#ed7953"
             ],
             [
              0.7777777777777778,
              "#fb9f3a"
             ],
             [
              0.8888888888888888,
              "#fdca26"
             ],
             [
              1,
              "#f0f921"
             ]
            ],
            "type": "heatmapgl"
           }
          ],
          "histogram": [
           {
            "marker": {
             "pattern": {
              "fillmode": "overlay",
              "size": 10,
              "solidity": 0.2
             }
            },
            "type": "histogram"
           }
          ],
          "histogram2d": [
           {
            "colorbar": {
             "outlinewidth": 0,
             "ticks": ""
            },
            "colorscale": [
             [
              0,
              "#0d0887"
             ],
             [
              0.1111111111111111,
              "#46039f"
             ],
             [
              0.2222222222222222,
              "#7201a8"
             ],
             [
              0.3333333333333333,
              "#9c179e"
             ],
             [
              0.4444444444444444,
              "#bd3786"
             ],
             [
              0.5555555555555556,
              "#d8576b"
             ],
             [
              0.6666666666666666,
              "#ed7953"
             ],
             [
              0.7777777777777778,
              "#fb9f3a"
             ],
             [
              0.8888888888888888,
              "#fdca26"
             ],
             [
              1,
              "#f0f921"
             ]
            ],
            "type": "histogram2d"
           }
          ],
          "histogram2dcontour": [
           {
            "colorbar": {
             "outlinewidth": 0,
             "ticks": ""
            },
            "colorscale": [
             [
              0,
              "#0d0887"
             ],
             [
              0.1111111111111111,
              "#46039f"
             ],
             [
              0.2222222222222222,
              "#7201a8"
             ],
             [
              0.3333333333333333,
              "#9c179e"
             ],
             [
              0.4444444444444444,
              "#bd3786"
             ],
             [
              0.5555555555555556,
              "#d8576b"
             ],
             [
              0.6666666666666666,
              "#ed7953"
             ],
             [
              0.7777777777777778,
              "#fb9f3a"
             ],
             [
              0.8888888888888888,
              "#fdca26"
             ],
             [
              1,
              "#f0f921"
             ]
            ],
            "type": "histogram2dcontour"
           }
          ],
          "mesh3d": [
           {
            "colorbar": {
             "outlinewidth": 0,
             "ticks": ""
            },
            "type": "mesh3d"
           }
          ],
          "parcoords": [
           {
            "line": {
             "colorbar": {
              "outlinewidth": 0,
              "ticks": ""
             }
            },
            "type": "parcoords"
           }
          ],
          "pie": [
           {
            "automargin": true,
            "type": "pie"
           }
          ],
          "scatter": [
           {
            "fillpattern": {
             "fillmode": "overlay",
             "size": 10,
             "solidity": 0.2
            },
            "type": "scatter"
           }
          ],
          "scatter3d": [
           {
            "line": {
             "colorbar": {
              "outlinewidth": 0,
              "ticks": ""
             }
            },
            "marker": {
             "colorbar": {
              "outlinewidth": 0,
              "ticks": ""
             }
            },
            "type": "scatter3d"
           }
          ],
          "scattercarpet": [
           {
            "marker": {
             "colorbar": {
              "outlinewidth": 0,
              "ticks": ""
             }
            },
            "type": "scattercarpet"
           }
          ],
          "scattergeo": [
           {
            "marker": {
             "colorbar": {
              "outlinewidth": 0,
              "ticks": ""
             }
            },
            "type": "scattergeo"
           }
          ],
          "scattergl": [
           {
            "marker": {
             "colorbar": {
              "outlinewidth": 0,
              "ticks": ""
             }
            },
            "type": "scattergl"
           }
          ],
          "scattermapbox": [
           {
            "marker": {
             "colorbar": {
              "outlinewidth": 0,
              "ticks": ""
             }
            },
            "type": "scattermapbox"
           }
          ],
          "scatterpolar": [
           {
            "marker": {
             "colorbar": {
              "outlinewidth": 0,
              "ticks": ""
             }
            },
            "type": "scatterpolar"
           }
          ],
          "scatterpolargl": [
           {
            "marker": {
             "colorbar": {
              "outlinewidth": 0,
              "ticks": ""
             }
            },
            "type": "scatterpolargl"
           }
          ],
          "scatterternary": [
           {
            "marker": {
             "colorbar": {
              "outlinewidth": 0,
              "ticks": ""
             }
            },
            "type": "scatterternary"
           }
          ],
          "surface": [
           {
            "colorbar": {
             "outlinewidth": 0,
             "ticks": ""
            },
            "colorscale": [
             [
              0,
              "#0d0887"
             ],
             [
              0.1111111111111111,
              "#46039f"
             ],
             [
              0.2222222222222222,
              "#7201a8"
             ],
             [
              0.3333333333333333,
              "#9c179e"
             ],
             [
              0.4444444444444444,
              "#bd3786"
             ],
             [
              0.5555555555555556,
              "#d8576b"
             ],
             [
              0.6666666666666666,
              "#ed7953"
             ],
             [
              0.7777777777777778,
              "#fb9f3a"
             ],
             [
              0.8888888888888888,
              "#fdca26"
             ],
             [
              1,
              "#f0f921"
             ]
            ],
            "type": "surface"
           }
          ],
          "table": [
           {
            "cells": {
             "fill": {
              "color": "#EBF0F8"
             },
             "line": {
              "color": "white"
             }
            },
            "header": {
             "fill": {
              "color": "#C8D4E3"
             },
             "line": {
              "color": "white"
             }
            },
            "type": "table"
           }
          ]
         },
         "layout": {
          "annotationdefaults": {
           "arrowcolor": "#2a3f5f",
           "arrowhead": 0,
           "arrowwidth": 1
          },
          "autotypenumbers": "strict",
          "coloraxis": {
           "colorbar": {
            "outlinewidth": 0,
            "ticks": ""
           }
          },
          "colorscale": {
           "diverging": [
            [
             0,
             "#8e0152"
            ],
            [
             0.1,
             "#c51b7d"
            ],
            [
             0.2,
             "#de77ae"
            ],
            [
             0.3,
             "#f1b6da"
            ],
            [
             0.4,
             "#fde0ef"
            ],
            [
             0.5,
             "#f7f7f7"
            ],
            [
             0.6,
             "#e6f5d0"
            ],
            [
             0.7,
             "#b8e186"
            ],
            [
             0.8,
             "#7fbc41"
            ],
            [
             0.9,
             "#4d9221"
            ],
            [
             1,
             "#276419"
            ]
           ],
           "sequential": [
            [
             0,
             "#0d0887"
            ],
            [
             0.1111111111111111,
             "#46039f"
            ],
            [
             0.2222222222222222,
             "#7201a8"
            ],
            [
             0.3333333333333333,
             "#9c179e"
            ],
            [
             0.4444444444444444,
             "#bd3786"
            ],
            [
             0.5555555555555556,
             "#d8576b"
            ],
            [
             0.6666666666666666,
             "#ed7953"
            ],
            [
             0.7777777777777778,
             "#fb9f3a"
            ],
            [
             0.8888888888888888,
             "#fdca26"
            ],
            [
             1,
             "#f0f921"
            ]
           ],
           "sequentialminus": [
            [
             0,
             "#0d0887"
            ],
            [
             0.1111111111111111,
             "#46039f"
            ],
            [
             0.2222222222222222,
             "#7201a8"
            ],
            [
             0.3333333333333333,
             "#9c179e"
            ],
            [
             0.4444444444444444,
             "#bd3786"
            ],
            [
             0.5555555555555556,
             "#d8576b"
            ],
            [
             0.6666666666666666,
             "#ed7953"
            ],
            [
             0.7777777777777778,
             "#fb9f3a"
            ],
            [
             0.8888888888888888,
             "#fdca26"
            ],
            [
             1,
             "#f0f921"
            ]
           ]
          },
          "colorway": [
           "#636efa",
           "#EF553B",
           "#00cc96",
           "#ab63fa",
           "#FFA15A",
           "#19d3f3",
           "#FF6692",
           "#B6E880",
           "#FF97FF",
           "#FECB52"
          ],
          "font": {
           "color": "#2a3f5f"
          },
          "geo": {
           "bgcolor": "white",
           "lakecolor": "white",
           "landcolor": "#E5ECF6",
           "showlakes": true,
           "showland": true,
           "subunitcolor": "white"
          },
          "hoverlabel": {
           "align": "left"
          },
          "hovermode": "closest",
          "mapbox": {
           "style": "light"
          },
          "paper_bgcolor": "white",
          "plot_bgcolor": "#E5ECF6",
          "polar": {
           "angularaxis": {
            "gridcolor": "white",
            "linecolor": "white",
            "ticks": ""
           },
           "bgcolor": "#E5ECF6",
           "radialaxis": {
            "gridcolor": "white",
            "linecolor": "white",
            "ticks": ""
           }
          },
          "scene": {
           "xaxis": {
            "backgroundcolor": "#E5ECF6",
            "gridcolor": "white",
            "gridwidth": 2,
            "linecolor": "white",
            "showbackground": true,
            "ticks": "",
            "zerolinecolor": "white"
           },
           "yaxis": {
            "backgroundcolor": "#E5ECF6",
            "gridcolor": "white",
            "gridwidth": 2,
            "linecolor": "white",
            "showbackground": true,
            "ticks": "",
            "zerolinecolor": "white"
           },
           "zaxis": {
            "backgroundcolor": "#E5ECF6",
            "gridcolor": "white",
            "gridwidth": 2,
            "linecolor": "white",
            "showbackground": true,
            "ticks": "",
            "zerolinecolor": "white"
           }
          },
          "shapedefaults": {
           "line": {
            "color": "#2a3f5f"
           }
          },
          "ternary": {
           "aaxis": {
            "gridcolor": "white",
            "linecolor": "white",
            "ticks": ""
           },
           "baxis": {
            "gridcolor": "white",
            "linecolor": "white",
            "ticks": ""
           },
           "bgcolor": "#E5ECF6",
           "caxis": {
            "gridcolor": "white",
            "linecolor": "white",
            "ticks": ""
           }
          },
          "title": {
           "x": 0.05
          },
          "xaxis": {
           "automargin": true,
           "gridcolor": "white",
           "linecolor": "white",
           "ticks": "",
           "title": {
            "standoff": 15
           },
           "zerolinecolor": "white",
           "zerolinewidth": 2
          },
          "yaxis": {
           "automargin": true,
           "gridcolor": "white",
           "linecolor": "white",
           "ticks": "",
           "title": {
            "standoff": 15
           },
           "zerolinecolor": "white",
           "zerolinewidth": 2
          }
         }
        },
        "xaxis": {
         "anchor": "y",
         "domain": [
          0,
          1
         ],
         "title": {
          "text": "dropout"
         }
        },
        "yaxis": {
         "anchor": "x",
         "domain": [
          0,
          1
         ],
         "title": {
          "text": "val_loss"
         }
        }
       }
      }
     },
     "metadata": {},
     "output_type": "display_data"
    }
   ],
   "source": [
    "import plotly.express as px \n",
    "\n",
    "fig = px.scatter(df, x=df['dropout'], y=df['val_loss'])\n",
    "fig.show()"
   ]
  },
  {
   "cell_type": "code",
   "execution_count": 106,
   "metadata": {},
   "outputs": [],
   "source": [
    "# df.to_csv('reg_data/final_reg_data.csv')"
   ]
  },
  {
   "cell_type": "code",
   "execution_count": null,
   "metadata": {},
   "outputs": [],
   "source": []
  }
 ],
 "metadata": {
  "kernelspec": {
   "display_name": "venv_cnn",
   "language": "python",
   "name": "python3"
  },
  "language_info": {
   "codemirror_mode": {
    "name": "ipython",
    "version": 3
   },
   "file_extension": ".py",
   "mimetype": "text/x-python",
   "name": "python",
   "nbconvert_exporter": "python",
   "pygments_lexer": "ipython3",
   "version": "3.8.3"
  },
  "orig_nbformat": 4,
  "vscode": {
   "interpreter": {
    "hash": "d4c749f7bdb0f444177ba46f7226c1f18447eea57a10fa878655d732524bf2a6"
   }
  }
 },
 "nbformat": 4,
 "nbformat_minor": 2
}
